{
 "cells": [
  {
   "cell_type": "code",
   "execution_count": 194,
   "metadata": {},
   "outputs": [],
   "source": [
    "import scipy.io\n",
    "import numpy as np\n",
    "from numpy import linalg as LA\n",
    "import matplotlib\n",
    "import time\n",
    "from PIL import Image\n",
    "import matplotlib\n",
    "import matplotlib.pyplot as plt\n",
    "from sklearn import preprocessing\n",
    "import sympy\n"
   ]
  },
  {
   "cell_type": "code",
   "execution_count": 195,
   "metadata": {},
   "outputs": [],
   "source": [
    "def show_img(img):\n",
    "    temp = img.copy()\n",
    "    temp.resize((46,56))\n",
    "    im = Image.fromarray(temp.T)\n",
    "    im.show()"
   ]
  },
  {
   "cell_type": "code",
   "execution_count": 196,
   "metadata": {},
   "outputs": [],
   "source": [
    "# load data\n",
    "mat = scipy.io.loadmat('face.mat')\n",
    "raw_data = mat['X']\n",
    "\n",
    "D,N = raw_data.shape\n",
    "\n",
    "raw_data = np.transpose(raw_data)\n",
    "\n",
    "training_data = np.empty([int(520*0.8), 2576])\n",
    "testing_data = np.empty([int(520*0.2), 2576])\n",
    "\n",
    "# create training and test data\n",
    "for x in range(52):\n",
    "        # 8/2 ratio for training and testing datasets\n",
    "\ttraining_data[x*8:(x+1)*8] = raw_data[x*10:x*10+8]\n",
    "\ttesting_data[x*2:(x+1)*2] = raw_data[x*10+8:(x+1)*10]\n",
    "\n",
    "raw_data = np.transpose(raw_data)\n",
    "training_data = np.transpose(training_data)\n",
    "testing_data = np.transpose(testing_data)\n",
    "\n"
   ]
  },
  {
   "cell_type": "code",
   "execution_count": 197,
   "metadata": {},
   "outputs": [],
   "source": [
    "# get mean image matrix\n",
    "mean_face = training_data.mean(axis=1).reshape(-1,1)\n",
    "\n",
    "show_img(mean_face)"
   ]
  },
  {
   "cell_type": "code",
   "execution_count": 198,
   "metadata": {},
   "outputs": [],
   "source": [
    "A = training_data - mean_face\n",
    "S = (1/N)*np.dot(np.transpose(A),A)\n",
    "# S = np.cov(np.transpose(A))\n",
    "\n",
    "w, v = LA.eig(S)\n",
    "\n",
    "# u = principal components\n",
    "u = np.dot(A,v)\n",
    "u /= LA.norm(u,ord=2,axis=0)\n",
    "\n",
    "id = np.argsort(np.abs(w))[::-1]\n",
    "w = w[id]\n",
    "u = np.real(u[:,id])\n",
    "u_norm = u\n",
    "\n"
   ]
  },
  {
   "cell_type": "code",
   "execution_count": 199,
   "metadata": {},
   "outputs": [],
   "source": [
    "# for i in range(10):\n",
    "#     asdf = u_norm[:,i].reshape(46,56)\n",
    "#     im = Image.fromarray(asdf)\n",
    "#     im.show()"
   ]
  },
  {
   "cell_type": "code",
   "execution_count": 200,
   "metadata": {},
   "outputs": [],
   "source": [
    "input = training_data\n",
    "delta = input - mean_face"
   ]
  },
  {
   "cell_type": "markdown",
   "metadata": {},
   "source": [
    "Compute weights for testing images"
   ]
  },
  {
   "cell_type": "code",
   "execution_count": 201,
   "metadata": {
    "scrolled": true
   },
   "outputs": [
    {
     "name": "stdout",
     "output_type": "stream",
     "text": [
      "(416, 416)\n",
      "[[-5.44059059e+02 -6.51006537e+01 -3.12137872e+02 ... -3.02899252e+00\n",
      "   6.60685437e-02 -1.22085028e+01]\n",
      " [-1.83831853e+02  3.31273057e+02 -6.54260422e+02 ...  2.37661483e-01\n",
      "   4.00909943e+00 -2.07952616e+01]\n",
      " [-5.40629185e+01 -7.89074429e+02  1.60230856e+02 ... -1.15904740e+01\n",
      "  -7.48810772e+00 -7.26253258e+01]\n",
      " ...\n",
      " [ 4.22721333e+02 -4.56929762e+02  2.15754140e+02 ...  1.38725200e+00\n",
      "   9.56521961e-01  1.91225812e+01]\n",
      " [ 8.92658793e+02  6.81663147e+01 -5.34142508e+02 ... -6.95068027e+00\n",
      "   5.04640212e+00  1.61558698e+01]\n",
      " [ 6.29509947e+02  7.01129638e+01 -5.92814779e+02 ...  1.26351798e+00\n",
      "  -1.94788207e-03 -1.57764936e+00]]\n"
     ]
    }
   ],
   "source": [
    "n_face = 416\n",
    "eigface = u_norm[:,:n_face]\n",
    "weights = np.dot(delta.T, eigface)\n",
    "print(weights.shape)\n",
    "print(weights)"
   ]
  },
  {
   "cell_type": "code",
   "execution_count": 202,
   "metadata": {
    "scrolled": false
   },
   "outputs": [
    {
     "name": "stdout",
     "output_type": "stream",
     "text": [
      "[[-16.58509086 -19.32023601 -17.15359452 ... -48.04959339 -47.38508555\n",
      "  -40.17461459]\n",
      " [  7.51229875   6.62529183   9.97845919 ... -45.21466052 -47.78950002\n",
      "  -46.13004647]\n",
      " [ 69.10014682  62.29649546  54.77554132 ... -64.21101319 -67.23056404\n",
      "  -63.86103125]\n",
      " ...\n",
      " [ 58.05955713  47.87852019  42.36457226 ... -23.44730186 -31.90947128\n",
      "  -36.33723331]\n",
      " [-62.90679491 -54.14029985 -49.5898034  ... -43.50433229 -34.04919583\n",
      "  -16.32183509]\n",
      " [-52.70566425 -60.25279666 -37.31708386 ...   2.15476829   6.11560058\n",
      "   12.77020775]]\n"
     ]
    }
   ],
   "source": [
    "reconstructed_faces = np.matmul(weights, eigface.T)\n",
    "\n",
    "print(reconstructed_faces)\n",
    "\n",
    "face = []\n",
    "for i in range(len(reconstructed_faces)):\n",
    "    face.append(reconstructed_faces[i][:] + mean_face.T)\n",
    "\n",
    "\n",
    "for x in face[:20]:\n",
    "    show_img(x)"
   ]
  },
  {
   "cell_type": "code",
   "execution_count": null,
   "metadata": {},
   "outputs": [],
   "source": []
  }
 ],
 "metadata": {
  "kernelspec": {
   "display_name": "Python 3",
   "language": "python",
   "name": "python3"
  },
  "language_info": {
   "codemirror_mode": {
    "name": "ipython",
    "version": 3
   },
   "file_extension": ".py",
   "mimetype": "text/x-python",
   "name": "python",
   "nbconvert_exporter": "python",
   "pygments_lexer": "ipython3",
   "version": "3.7.0"
  }
 },
 "nbformat": 4,
 "nbformat_minor": 2
}
