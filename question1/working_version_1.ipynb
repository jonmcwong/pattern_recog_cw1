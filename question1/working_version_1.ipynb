{
 "cells": [
  {
   "cell_type": "code",
   "execution_count": 1,
   "metadata": {},
   "outputs": [],
   "source": [
    "import scipy.io\n",
    "import numpy as np\n",
    "from numpy import linalg as LA\n",
    "import matplotlib\n",
    "import time\n",
    "from PIL import Image\n",
    "import matplotlib\n",
    "import matplotlib.pyplot as plt\n",
    "from sklearn.neighbors import NearestNeighbors\n",
    "from functions import *\n",
    "from numpy import random"
   ]
  },
  {
   "cell_type": "code",
   "execution_count": 2,
   "metadata": {},
   "outputs": [],
   "source": [
    "# load data\n",
    "mat = scipy.io.loadmat('face.mat')\n",
    "raw_data = mat['X']\n",
    "\n",
    "D,N = raw_data.shape\n",
    "\n",
    "raw_data = np.transpose(raw_data)\n",
    "\n",
    "training_data = np.empty([int(520*0.8), 2576])\n",
    "testing_data = np.empty([int(520*0.2), 2576])\n",
    "\n",
    "# create training and test data\n",
    "for x in range(52):\n",
    "    training_data[x*8:(x+1)*8] = raw_data[x*10:x*10+8]\n",
    "    testing_data[x*2:(x+1)*2] = raw_data[x*10+8:(x+1)*10]\n",
    "\n",
    "raw_data = np.transpose(raw_data)\n",
    "training_data = np.transpose(training_data)\n",
    "testing_data = np.transpose(testing_data)\n",
    "\n"
   ]
  },
  {
   "cell_type": "code",
   "execution_count": 3,
   "metadata": {},
   "outputs": [
    {
     "name": "stdout",
     "output_type": "stream",
     "text": [
      "(2576, 416)\n",
      "(2576, 1)\n"
     ]
    }
   ],
   "source": [
    "# get mean image matrix\n",
    "print(training_data.shape)\n",
    "mean_face = training_data.mean(axis=1).reshape(-1,1)\n",
    "show_img(mean_face)\n",
    "print(mean_face.shape)"
   ]
  },
  {
   "cell_type": "markdown",
   "metadata": {},
   "source": [
    "rank of each matrix is the same : 415\n",
    "Most of eigen values in normal pca should be 0. But instead are complex due to numeric error. need a way to discard small eigen vals\n"
   ]
  },
  {
   "cell_type": "code",
   "execution_count": 4,
   "metadata": {
    "scrolled": false
   },
   "outputs": [
    {
     "name": "stdout",
     "output_type": "stream",
     "text": [
      "shape of S :  (416, 416)\n",
      "shape of w (416,)\n",
      "shape of v (416, 416)\n",
      "low dimension pca took  0.19083499908447266  seconds.\n"
     ]
    }
   ],
   "source": [
    "# generate principal components\n",
    "# pca_eigw, pca_eigvec = normal_pca(training_data, mean_face)\n",
    "lowdim_eigw, lowdim_eigvec = lowdim_pca(training_data, mean_face)\n",
    "\n",
    "u_norm = lowdim_eigvec"
   ]
  },
  {
   "cell_type": "code",
   "execution_count": null,
   "metadata": {},
   "outputs": [],
   "source": [
    "eigen_analysis(pca_eigw, pca_eigvec, lowdim_eigw, lowdim_eigvec)"
   ]
  },
  {
   "cell_type": "code",
   "execution_count": null,
   "metadata": {},
   "outputs": [],
   "source": [
    "faces = reconstruct(testing_data, mean_face, u_norm, 400)\n",
    "\n",
    "print(\"mean pixel error: \", get_err(training_data[:,0], faces[0]))\n",
    "\n"
   ]
  },
  {
   "cell_type": "code",
   "execution_count": null,
   "metadata": {},
   "outputs": [],
   "source": [
    "plot_err(training_data, testing_data, mean_face, u_norm, 0)"
   ]
  },
  {
   "cell_type": "code",
   "execution_count": null,
   "metadata": {},
   "outputs": [],
   "source": [
    "# print(lowdim_eigw.shape)\n",
    "# print(lowdim_eigw)\n",
    "plt.plot(lowdim_eigw)"
   ]
  },
  {
   "cell_type": "code",
   "execution_count": null,
   "metadata": {},
   "outputs": [],
   "source": [
    "result = class_rate(training_data, faces)\n",
    "print(\"classification rate: \", 100*np.sum(result)/len(result), \"%.\")"
   ]
  },
  {
   "cell_type": "code",
   "execution_count": null,
   "metadata": {},
   "outputs": [],
   "source": [
    "plot_class_rate(training_data, testing_data, mean_face, u_norm, 0)"
   ]
  },
  {
   "cell_type": "code",
   "execution_count": null,
   "metadata": {},
   "outputs": [],
   "source": [
    "dist, indx = nn_class(training_data.T, faces)\n",
    "print(len(indx))\n"
   ]
  },
  {
   "cell_type": "code",
   "execution_count": null,
   "metadata": {},
   "outputs": [],
   "source": [
    "def confusion_mat(training_data, reconstructed):\n",
    "    dist, indx = nn_class(training_data.T, reconstructed)\n",
    "    TP, FP, FN, TN, accuracy, recall, precision = ([0]*52 for i in range(7)) \n",
    "    for cl in range(52):\n",
    "        #compute TP and FN\n",
    "        for item in range(2):\n",
    "            if cl*8 <= indx[cl*2+item] <= (cl+1)*8:\n",
    "                TP[cl] += 1\n",
    "            else:\n",
    "                FN[cl] += 1\n",
    "                \n",
    "        for item in [x for x in range(len(indx)) if x != cl*2 or x != cl*2+1]:\n",
    "            if cl*8 <= indx[item] <= (cl+1)*8:\n",
    "                FP[cl] += 1\n",
    "            else:\n",
    "                TN[cl] += 1\n",
    "            \n",
    "                    \n",
    "#     print(\"TP: \", TP)\n",
    "#     print(\"FN: \", FN)\n",
    "#     print(\"FP: \", FP)\n",
    "#     print(\"TN: \", TN)\n",
    "    \n",
    "    for i in range(len(TP)):\n",
    "        accuracy[i] = 100*(TP[i] + TN[i])/(TP[i] + TN[i] + FP[i] + FN[i])\n",
    "        if TP[i]+FN[i] == 0:\n",
    "            recall[i] = 0\n",
    "        else:\n",
    "            recall[i] = 100*TP[i]/(TP[i]+FN[i])\n",
    "        if TP[i]+FP[i] == 0:\n",
    "            precision[i] = 0\n",
    "        else:\n",
    "            precision[i] = 100*TP[i]/(TP[i]+FP[i])\n",
    "        \n",
    "    for i in range(len(accuracy)):\n",
    "        print(\"=========\\tClass \", i ,\"\\t==========\")\n",
    "        print(\"accuracy :\\t\", accuracy[i])\n",
    "        print(\"recall\\t :\\t\", recall[i])\n",
    "        print(\"precision:\\t\", precision[i])\n"
   ]
  },
  {
   "cell_type": "code",
   "execution_count": null,
   "metadata": {},
   "outputs": [],
   "source": [
    "confusion_mat(training_data, faces)"
   ]
  },
  {
   "cell_type": "code",
   "execution_count": null,
   "metadata": {},
   "outputs": [],
   "source": []
  }
 ],
 "metadata": {
  "kernelspec": {
   "display_name": "Python 3",
   "language": "python",
   "name": "python3"
  },
  "language_info": {
   "codemirror_mode": {
    "name": "ipython",
    "version": 3
   },
   "file_extension": ".py",
   "mimetype": "text/x-python",
   "name": "python",
   "nbconvert_exporter": "python",
   "pygments_lexer": "ipython3",
   "version": "3.7.3"
  }
 },
 "nbformat": 4,
 "nbformat_minor": 2
}
