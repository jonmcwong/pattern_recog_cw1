{
 "cells": [
  {
   "cell_type": "code",
   "execution_count": 1,
   "metadata": {},
   "outputs": [],
   "source": [
    "import scipy.io\n",
    "import numpy as np\n",
    "from numpy import linalg as LA\n",
    "import matplotlib\n",
    "import time\n",
    "from PIL import Image\n",
    "import matplotlib\n",
    "import matplotlib.pyplot as plt\n",
    "from sklearn import preprocessing\n",
    "import sympy"
   ]
  },
  {
   "cell_type": "code",
   "execution_count": 2,
   "metadata": {},
   "outputs": [],
   "source": [
    "def show_img(img):\n",
    "    temp = img.copy()\n",
    "    temp.resize((46,56))\n",
    "    im = Image.fromarray(temp.T)\n",
    "    im.show()"
   ]
  },
  {
   "cell_type": "code",
   "execution_count": 3,
   "metadata": {},
   "outputs": [],
   "source": [
    "def get_err(x, y):\n",
    "    # they must be the same dimension\n",
    "    err = x - y\n",
    "    # show_img(err)\n",
    "    err = np.square(err)\n",
    "    return np.sqrt(np.sum(err)/len(x))"
   ]
  },
  {
   "cell_type": "code",
   "execution_count": 4,
   "metadata": {},
   "outputs": [],
   "source": [
    "# load data\n",
    "mat = scipy.io.loadmat('face.mat')\n",
    "raw_data = mat['X']\n",
    "\n",
    "D,N = raw_data.shape\n",
    "\n",
    "raw_data = np.transpose(raw_data)\n",
    "\n",
    "training_data = np.empty([int(520*0.8), 2576])\n",
    "testing_data = np.empty([int(520*0.2), 2576])\n",
    "\n",
    "# create training and test data\n",
    "for x in range(52):\n",
    "        # 8/2 ratio for training and testing datasets\n",
    "\ttraining_data[x*8:(x+1)*8] = raw_data[x*10:x*10+8]\n",
    "\ttesting_data[x*2:(x+1)*2] = raw_data[x*10+8:(x+1)*10]\n",
    "\n",
    "raw_data = np.transpose(raw_data)\n",
    "training_data = np.transpose(training_data)\n",
    "testing_data = np.transpose(testing_data)\n",
    "\n"
   ]
  },
  {
   "cell_type": "code",
   "execution_count": 5,
   "metadata": {},
   "outputs": [],
   "source": [
    "# get mean image matrix\n",
    "mean_face = training_data.mean(axis=1).reshape(-1,1)\n",
    "\n",
    "show_img(mean_face)"
   ]
  },
  {
   "cell_type": "code",
   "execution_count": 25,
   "metadata": {},
   "outputs": [],
   "source": [
    "def lowdim_pca(train, mean): \n",
    "    A = train - mean_face\n",
    "    S = (1/N)*np.dot(np.transpose(A),A)\n",
    "    print(\"rank of lowdim cov: \", LA.matrix_rank(S))\n",
    "    # S = np.cov(np.transpose(A))\n",
    "    w, v = LA.eig(S)\n",
    "    v /= LA.norm(v,ord=2,axis=0)\n",
    "    # u = principal components\n",
    "    u = np.dot(A,v)\n",
    "    u /= LA.norm(u,ord=2,axis=0)\n",
    "\n",
    "    id = np.argsort(np.abs(w))[::-1]\n",
    "    w = w[id]\n",
    "    u = u[:,id]\n",
    "    \n",
    "    # return eigen vectors sorted from largest to smallest\n",
    "    return u"
   ]
  },
  {
   "cell_type": "code",
   "execution_count": 31,
   "metadata": {},
   "outputs": [],
   "source": [
    "def normal_pca(train, mean):\n",
    "    A = train - mean_face\n",
    "    S = (1/N)*np.dot(A,A.T)\n",
    "    print(\"rank of S: \", LA.matrix_rank(S))\n",
    "    print(\"S is symmetric: \", S == S.T)\n",
    "    print()\n",
    "    print(\"S is real: \", S.imag == 0)\n",
    "    w,v = LA.eig(S)\n",
    "    v /= LA.norm(v,ord=2,axis=0)\n",
    "    # nz_u = principal components with non-zero eigenvals\n",
    "    print(\"number of zero eigen vals: \", np.sum(w != 0))\n",
    "    nz_u = v[w != 0]\n",
    "    nz_u /= LA.norm(nz_u, ord=2, axis=0)\n",
    "    nz_w = w[w != 0]\n",
    "    print(\"eigenvalues: \", nz_w)\n",
    "    print(\"complex eigen vals are: \", nz_w[nz_w.imag != 0])\n",
    "    id = np.argsort(np.abs(nz_w))[::-1]\n",
    "    nz_w = nz_w[id]\n",
    "    nz_u = nz_u[:,id]\n",
    "    \n",
    "    # return non-zero eigen vectors sorted from largest to smallest\n",
    "    return nz_u    "
   ]
  },
  {
   "cell_type": "markdown",
   "metadata": {},
   "source": [
    "rank of each matrix is the same : 415\n",
    "Most of eigen values in normal pca should be 0. But instead are complex due to numeric error. need a way to discard small eigen vals\n"
   ]
  },
  {
   "cell_type": "code",
   "execution_count": 32,
   "metadata": {
    "scrolled": false
   },
   "outputs": [
    {
     "name": "stdout",
     "output_type": "stream",
     "text": [
      "rank of S:  415\n",
      "S is symmetric:  [[ True  True  True ...  True  True  True]\n",
      " [ True  True  True ...  True  True  True]\n",
      " [ True  True  True ...  True  True  True]\n",
      " ...\n",
      " [ True  True  True ...  True  True  True]\n",
      " [ True  True  True ...  True  True  True]\n",
      " [ True  True  True ...  True  True  True]]\n",
      "S is real:  [[ True  True  True ...  True  True  True]\n",
      " [ True  True  True ...  True  True  True]\n",
      " [ True  True  True ...  True  True  True]\n",
      " ...\n",
      " [ True  True  True ...  True  True  True]\n",
      " [ True  True  True ...  True  True  True]\n",
      " [ True  True  True ...  True  True  True]]\n",
      "number of zero eigen vals:  2576\n",
      "eigenvalues:  [ 7.49110900e+05+0.j  4.05774608e+05+0.j  3.82692319e+05+0.j ...\n",
      " -1.38623395e-13+0.j -3.08804252e-13+0.j -5.11278692e-14+0.j]\n",
      "complex eigen vals are:  [-2.59523913e-11+5.21886224e-13j -2.59523913e-11-5.21886224e-13j\n",
      "  1.93050103e-11+2.56784215e-13j ... -1.74089720e-13-2.17368917e-13j\n",
      " -9.89640642e-14+4.19988220e-14j -9.89640642e-14-4.19988220e-14j]\n",
      "rank of lowdim cov:  415\n"
     ]
    }
   ],
   "source": [
    "# generate principal components\n",
    "pca_eigvec = normal_pca(training_data, mean_face)\n",
    "lowdim_eigvec = lowdim_pca(training_data, mean_face)\n",
    "\n",
    "u_norm = lowdim_eigvec"
   ]
  },
  {
   "cell_type": "code",
   "execution_count": 28,
   "metadata": {},
   "outputs": [
    {
     "name": "stdout",
     "output_type": "stream",
     "text": [
      "[-0.00379327-2.22918912e-05j -0.00379327+2.22918912e-05j\n",
      "  0.00384693+3.44841304e-04j ...  0.02021531-2.12041180e-02j\n",
      "  0.01856723-9.01670400e-04j  0.01856723+9.01670400e-04j]\n"
     ]
    }
   ],
   "source": [
    "print(pca_eigvec[pca_eigvec.imag != 0])"
   ]
  },
  {
   "cell_type": "code",
   "execution_count": 7,
   "metadata": {},
   "outputs": [],
   "source": [
    "# for i in range(10):\n",
    "#     asdf = u_norm[:,i].reshape(46,56)\n",
    "#     im = Image.fromarray(asdf)\n",
    "#     im.show()"
   ]
  },
  {
   "cell_type": "code",
   "execution_count": 8,
   "metadata": {},
   "outputs": [],
   "source": [
    "input = training_data\n",
    "delta = input - mean_face"
   ]
  },
  {
   "cell_type": "markdown",
   "metadata": {},
   "source": [
    "Compute weights for testing images"
   ]
  },
  {
   "cell_type": "code",
   "execution_count": 9,
   "metadata": {
    "scrolled": true
   },
   "outputs": [
    {
     "name": "stdout",
     "output_type": "stream",
     "text": [
      "(2576, 416)\n",
      "(2576, 416)\n",
      "(416, 416)\n"
     ]
    }
   ],
   "source": [
    "n_face = 416\n",
    "eigface = u_norm[:,:n_face]\n",
    "weights = np.matmul(delta.T, eigface)\n",
    "print(eigface.shape)\n",
    "print(delta.shape)\n",
    "print(weights.shape)"
   ]
  },
  {
   "cell_type": "code",
   "execution_count": 10,
   "metadata": {
    "scrolled": false
   },
   "outputs": [
    {
     "name": "stdout",
     "output_type": "stream",
     "text": [
      "[-15.81900395 -19.99002851 -17.67563775 ... -46.65471535 -47.0460667\n",
      " -42.1257451 ]\n",
      "(416, 2576)\n"
     ]
    }
   ],
   "source": [
    "reconstructed_faces = np.matmul(weights, eigface.T)\n",
    "print(reconstructed_faces[0])\n",
    "print(reconstructed_faces.shape)\n",
    "\n",
    "face = []\n",
    "for i in range(len(reconstructed_faces)):\n",
    "    face.append(reconstructed_faces[i][:] + mean_face.T)\n",
    "\n",
    "\n",
    "for x in face[:20]:\n",
    "    show_img(x)"
   ]
  },
  {
   "cell_type": "code",
   "execution_count": 11,
   "metadata": {},
   "outputs": [
    {
     "name": "stdout",
     "output_type": "stream",
     "text": [
      "mean pixel error:  2.058567171627294\n"
     ]
    }
   ],
   "source": [
    "print(\"mean pixel error: \", get_err(training_data[:,0], face[0]))"
   ]
  },
  {
   "cell_type": "code",
   "execution_count": null,
   "metadata": {},
   "outputs": [],
   "source": []
  }
 ],
 "metadata": {
  "kernelspec": {
   "display_name": "Python 3",
   "language": "python",
   "name": "python3"
  },
  "language_info": {
   "codemirror_mode": {
    "name": "ipython",
    "version": 3
   },
   "file_extension": ".py",
   "mimetype": "text/x-python",
   "name": "python",
   "nbconvert_exporter": "python",
   "pygments_lexer": "ipython3",
   "version": "3.6.9"
  }
 },
 "nbformat": 4,
 "nbformat_minor": 2
}
