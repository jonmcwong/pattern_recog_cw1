{
 "cells": [
  {
   "cell_type": "code",
   "execution_count": 1,
   "metadata": {},
   "outputs": [],
   "source": [
    "import scipy.io \n",
    "import numpy as np\n",
    "from numpy import linalg as LA\n",
    "import matplotlib\n",
    "import time\n",
    "from PIL import Image"
   ]
  },
  {
   "cell_type": "markdown",
   "metadata": {},
   "source": [
    "function for viewing images"
   ]
  },
  {
   "cell_type": "code",
   "execution_count": null,
   "metadata": {},
   "outputs": [],
   "source": [
    "def show_img(img):\n",
    "    # shows image as png\n",
    "    # img must be a 2576 1d vector\n",
    "    img.resize((46,56))\n",
    "    im = Image.fromarray(np.transpose(img), mode=\"L\")\n",
    "    im.show()"
   ]
  },
  {
   "cell_type": "markdown",
   "metadata": {},
   "source": [
    "load MATLAB matrix into a python dictionary"
   ]
  },
  {
   "cell_type": "code",
   "execution_count": null,
   "metadata": {},
   "outputs": [],
   "source": [
    "mat = scipy.io.loadmat('face.mat')"
   ]
  },
  {
   "cell_type": "markdown",
   "metadata": {},
   "source": [
    "lookup the data within the dictionary object.\n",
    "There are headers so we can't use the dictionary as a data only object"
   ]
  },
  {
   "cell_type": "code",
   "execution_count": null,
   "metadata": {},
   "outputs": [],
   "source": [
    "raw_data = mat['X']"
   ]
  },
  {
   "cell_type": "markdown",
   "metadata": {},
   "source": [
    "#transpose to the correct orientation so we can separate the images into training and testing datasets"
   ]
  },
  {
   "cell_type": "code",
   "execution_count": null,
   "metadata": {},
   "outputs": [],
   "source": [
    "raw_data = np.transpose(raw_data)"
   ]
  },
  {
   "cell_type": "markdown",
   "metadata": {},
   "source": [
    "init arrays for training and test data"
   ]
  },
  {
   "cell_type": "code",
   "execution_count": null,
   "metadata": {},
   "outputs": [],
   "source": [
    "training_data = np.empty([int(520*0.8), 2576])\n",
    "testing_data = np.empty([int(520*0.2), 2576])"
   ]
  },
  {
   "cell_type": "markdown",
   "metadata": {},
   "source": [
    "create training and test data"
   ]
  },
  {
   "cell_type": "code",
   "execution_count": null,
   "metadata": {},
   "outputs": [],
   "source": [
    "for x in range(52):\n",
    "        # 8/2 ratio for training and testing datasets\t\n",
    "\ttraining_data[x*8:(x+1)*8] = raw_data[x*10:x*10+8]\n",
    "\ttesting_data[x*2:(x+1)*2] = raw_data[x*10+8:(x+1)*10]"
   ]
  },
  {
   "cell_type": "markdown",
   "metadata": {},
   "source": [
    "compute the covariance matrix for low-dimensional computation"
   ]
  },
  {
   "cell_type": "code",
   "execution_count": null,
   "metadata": {},
   "outputs": [],
   "source": [
    "start = time.time()\n",
    "low_cov_mat = np.cov(training_data)\n",
    "end = time.time()\n",
    "print(\"time required to compute low-dim-cov-mat : \",end - start)\n",
    "print(\"length of covariance matrix\", len(low_cov_mat))"
   ]
  },
  {
   "cell_type": "markdown",
   "metadata": {},
   "source": [
    "compute the eigenvalues and eigenvectors of the covariance matrix\n",
    "w -> eigenvalues\n",
    "v -> eigenvectors"
   ]
  },
  {
   "cell_type": "code",
   "execution_count": null,
   "metadata": {},
   "outputs": [],
   "source": [
    "start = time.time()\n",
    "low_w, low_v = LA.eig(low_cov_mat)"
   ]
  },
  {
   "cell_type": "markdown",
   "metadata": {},
   "source": [
    "reconstruct original eignevectors"
   ]
  },
  {
   "cell_type": "code",
   "execution_count": null,
   "metadata": {},
   "outputs": [],
   "source": [
    "low_computed_u = training_data.T.dot(low_v) # is probably incredibly wrong\n",
    "end = time.time()\n",
    "print(\"time required to compute eigenvalues and eigenvectors of low-dim-cov-mat : \",end-start)"
   ]
  },
  {
   "cell_type": "markdown",
   "metadata": {},
   "source": [
    "create matrix of eigen vectors with nonzero eigen values"
   ]
  },
  {
   "cell_type": "code",
   "execution_count": null,
   "metadata": {},
   "outputs": [],
   "source": [
    "nz_eigenvectors = low_computed_u.T[low_w != 0]\n",
    "print(\"length of non-zero eigenvalue array: \", len(nz_eigenvectors))\n",
    "# print(nz_eigenvectors)"
   ]
  },
  {
   "cell_type": "markdown",
   "metadata": {},
   "source": [
    "sort form largest to smallest eigen vector"
   ]
  },
  {
   "cell_type": "code",
   "execution_count": null,
   "metadata": {},
   "outputs": [],
   "source": [
    "low_eigenval_vec = [(x,y) for x, y in zip(low_w, low_computed_u)]\n",
    "sorted_low = sorted(low_eigenval_vec, key=lambda eigenv: eigenv[0], reverse=True)\n",
    "# print(sorted_low)"
   ]
  },
  {
   "cell_type": "markdown",
   "metadata": {},
   "source": [
    "compute the covariance matrix for normal PCA computation"
   ]
  },
  {
   "cell_type": "code",
   "execution_count": null,
   "metadata": {},
   "outputs": [],
   "source": [
    "normal_cov_mat = np.cov(np.transpose(training_data)) # need timing\n",
    "print(\"Length of normal cov matrix\", len(normal_cov_mat))"
   ]
  },
  {
   "cell_type": "markdown",
   "metadata": {},
   "source": [
    "# compute eigenvalues and vectors for normal PCA computation\n",
    "# normal_t -> eigenvalues\n",
    "# normal_u -> eigenvectors"
   ]
  }
 ],
 "metadata": {
  "kernelspec": {
   "display_name": "Python 3",
   "language": "python",
   "name": "python3"
  },
  "language_info": {
   "codemirror_mode": {
    "name": "ipython",
    "version": 3
   },
   "file_extension": ".py",
   "mimetype": "text/x-python",
   "name": "python",
   "nbconvert_exporter": "python",
   "pygments_lexer": "ipython3",
   "version": "3.6.9"
  }
 },
 "nbformat": 4,
 "nbformat_minor": 2
}
