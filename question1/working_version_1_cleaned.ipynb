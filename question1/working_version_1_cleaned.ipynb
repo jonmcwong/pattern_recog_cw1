{
 "cells": [
  {
   "cell_type": "code",
   "execution_count": 5,
   "metadata": {},
   "outputs": [],
   "source": [
    "import scipy.io\n",
    "import numpy as np\n",
    "from numpy import linalg as LA\n",
    "import time\n",
    "from PIL import Image"
   ]
  },
  {
   "cell_type": "markdown",
   "metadata": {},
   "source": [
    "Function to resize (2576,1) image vector into a (46,56) size image and display it."
   ]
  },
  {
   "cell_type": "code",
   "execution_count": 6,
   "metadata": {},
   "outputs": [],
   "source": [
    "def show_img(img):\n",
    "    temp = img.copy()\n",
    "    temp.resize((46,56))\n",
    "    im = Image.fromarray(temp.T)\n",
    "    im.show()"
   ]
  },
  {
   "cell_type": "markdown",
   "metadata": {},
   "source": [
    "Load face data "
   ]
  },
  {
   "cell_type": "code",
   "execution_count": 7,
   "metadata": {},
   "outputs": [],
   "source": [
    "mat = scipy.io.loadmat('face.mat')\n",
    "raw_data = mat['X']"
   ]
  },
  {
   "cell_type": "markdown",
   "metadata": {},
   "source": [
    "Segmenting data into training and testing data. A 8/2 ratio has been used"
   ]
  },
  {
   "cell_type": "code",
   "execution_count": 9,
   "metadata": {},
   "outputs": [
    {
     "name": "stdout",
     "output_type": "stream",
     "text": [
      "2576\n"
     ]
    }
   ],
   "source": [
    "D,N = raw_data.shape\n",
    "raw_data = np.transpose(raw_data)\n",
    "\n",
    "training_data = np.empty([int(N*0.8), D])\n",
    "testing_data = np.empty([int(N*0.2), D])\n",
    "\n",
    "for x in range(N/10):\n",
    "    training_data[x*8:(x+1)*8] = raw_data[x*10:x*10+8]\n",
    "    testing_data[x*2:(x+1)*2] = raw_data[x*10+8:(x+1)*10]\n",
    "\n",
    "raw_data = np.transpose(raw_data)\n",
    "training_data = np.transpose(training_data)\n",
    "testing_data = np.transpose(testing_data)"
   ]
  },
  {
   "cell_type": "markdown",
   "metadata": {},
   "source": [
    "Calculate the mean face from the training dataset"
   ]
  },
  {
   "cell_type": "code",
   "execution_count": 243,
   "metadata": {},
   "outputs": [],
   "source": [
    "mean_face = training_data.mean(axis=1).reshape(-1,1)\n",
    "show_img(mean_face)"
   ]
  },
  {
   "cell_type": "code",
   "execution_count": 244,
   "metadata": {},
   "outputs": [
    {
     "name": "stdout",
     "output_type": "stream",
     "text": [
      "(416, 416)\n"
     ]
    }
   ],
   "source": [
    "A = training_data - mean_face\n",
    "S = (1/N)*np.dot(np.transpose(A),A)\n",
    "w, v = LA.eig(S)\n",
    "v /= LA.norm(v,ord=2,axis=0)\n",
    "u = np.dot(A,v)\n",
    "u /= LA.norm(u,ord=2,axis=0)\n",
    "id = np.argsort(np.abs(w))[::-1]\n",
    "w = w[id]\n",
    "u = np.real(u[:,id])\n",
    "u_norm = u\n",
    "\n"
   ]
  },
  {
   "cell_type": "code",
   "execution_count": 245,
   "metadata": {},
   "outputs": [],
   "source": [
    "# for i in range(10):\n",
    "#     asdf = u_norm[:,i].reshape(46,56)\n",
    "#     im = Image.fromarray(asdf)\n",
    "#     im.show()"
   ]
  },
  {
   "cell_type": "code",
   "execution_count": 246,
   "metadata": {},
   "outputs": [],
   "source": [
    "input = testing_data\n",
    "delta = input - mean_face"
   ]
  },
  {
   "cell_type": "markdown",
   "metadata": {},
   "source": [
    "Compute weights for testing images"
   ]
  },
  {
   "cell_type": "code",
   "execution_count": 247,
   "metadata": {
    "scrolled": true
   },
   "outputs": [
    {
     "name": "stdout",
     "output_type": "stream",
     "text": [
      "(2576, 100)\n",
      "(2576, 104)\n",
      "(104, 100)\n"
     ]
    }
   ],
   "source": [
    "n_face = 100\n",
    "eigface = u_norm[:,:n_face]\n",
    "weights = np.matmul(delta.T, eigface)\n",
    "print(eigface.shape)\n",
    "print(delta.shape)\n",
    "print(weights.shape)"
   ]
  },
  {
   "cell_type": "code",
   "execution_count": 248,
   "metadata": {
    "scrolled": false
   },
   "outputs": [
    {
     "name": "stdout",
     "output_type": "stream",
     "text": [
      "[-13.88510814 -16.47668337 -11.93320382 ...  34.87826407  37.63854347\n",
      "  42.84121952]\n",
      "(104, 2576)\n"
     ]
    }
   ],
   "source": [
    "reconstructed_faces = np.matmul(weights, eigface.T)\n",
    "print(reconstructed_faces[0])\n",
    "print(reconstructed_faces.shape)\n",
    "\n",
    "face = []\n",
    "for i in range(len(reconstructed_faces)):\n",
    "    face.append(reconstructed_faces[i][:] + mean_face.T)\n",
    "\n",
    "\n",
    "for x in face[:20]:\n",
    "    show_img(x)"
   ]
  },
  {
   "cell_type": "code",
   "execution_count": null,
   "metadata": {},
   "outputs": [],
   "source": []
  }
 ],
 "metadata": {
  "kernelspec": {
   "display_name": "Python 3",
   "language": "python",
   "name": "python3"
  },
  "language_info": {
   "codemirror_mode": {
    "name": "ipython",
    "version": 3
   },
   "file_extension": ".py",
   "mimetype": "text/x-python",
   "name": "python",
   "nbconvert_exporter": "python",
   "pygments_lexer": "ipython3",
   "version": "3.7.0"
  }
 },
 "nbformat": 4,
 "nbformat_minor": 2
}
