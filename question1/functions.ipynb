{
 "cells": [
  {
   "cell_type": "code",
   "execution_count": null,
   "metadata": {},
   "outputs": [],
   "source": [
    "import scipy.io\n",
    "import numpy as np\n",
    "from numpy import linalg as LA\n",
    "import matplotlib\n",
    "import time\n",
    "from PIL import Image\n",
    "import matplotlib\n",
    "import matplotlib.pyplot as plt\n",
    "from sklearn.neighbors import NearestNeighbors"
   ]
  },
  {
   "cell_type": "code",
   "execution_count": 50,
   "metadata": {},
   "outputs": [],
   "source": [
    "def show_img(img):\n",
    "    temp = img.copy()\n",
    "    temp.resize((46,56))\n",
    "    im = Image.fromarray(temp.T)\n",
    "    #suppress all print image for now\n",
    "#     im.show()"
   ]
  },
  {
   "cell_type": "code",
   "execution_count": 51,
   "metadata": {},
   "outputs": [],
   "source": [
    "def get_err(x, y):\n",
    "    # they must be the same dimension\n",
    "    err = np.absolute(x - y)\n",
    "    return np.sum(err)/len(x)"
   ]
  },
  {
   "cell_type": "code",
   "execution_count": 52,
   "metadata": {},
   "outputs": [],
   "source": [
    "def reconstruct(input, mean_face, eig, n):\n",
    "    if n < len(eig[0]):\n",
    "        delta = input - mean_face\n",
    "        eig_face = eig[:,:n]\n",
    "        weights = np.matmul(delta.T, eig_face)\n",
    "        reconstructed_faces = np.matmul(weights, eig_face.T)\n",
    "        face = np.empty(input.T.shape)\n",
    "        for i in range(len(reconstructed_faces)):\n",
    "            face[i][:] = reconstructed_faces[i][:]+mean_face.T\n",
    "\n",
    "        return face"
   ]
  },
  {
   "cell_type": "code",
   "execution_count": 53,
   "metadata": {},
   "outputs": [],
   "source": [
    "def nn_class(X, Y):\n",
    "    # X = training data\n",
    "    # Y = reconstructed testing data\n",
    "    # this function returns the nearest data point of Y in X\n",
    "    # X and Y must have the same shape\n",
    "    # indices denotes the index of the nearest neighbour of Y in X\n",
    "    # indices denotes the corresponding distance \n",
    "    nbrs = NearestNeighbors(n_neighbors=1, algorithm='ball_tree').fit(X)\n",
    "    distances, indices = nbrs.kneighbors(Y)\n",
    "    return distances, indices"
   ]
  },
  {
   "cell_type": "code",
   "execution_count": 54,
   "metadata": {},
   "outputs": [],
   "source": [
    "def plot_err(training_data, testing_data, mean_face, eig, image):\n",
    "    index = []\n",
    "    for i in range(1,len(eig[0])):\n",
    "        faces = reconstruct(testing_data, mean_face, eig, i)\n",
    "        temp = []\n",
    "        for j in range(len(testing_data[1,:])):\n",
    "            temp.append(get_err(testing_data[:,j], faces[j]))\n",
    "        index.append(sum(temp)/len(temp))\n",
    "    plt.plot(index)"
   ]
  },
  {
   "cell_type": "code",
   "execution_count": 55,
   "metadata": {},
   "outputs": [],
   "source": [
    "def eigen_analysis(w1,v1,w2,v2):\n",
    "    plt.subplot(311)\n",
    "    plt.plot(w1[:415])\n",
    "    plt.subplot(312)\n",
    "    plt.plot(w2[:415])\n",
    "    plt.subplot(313)\n",
    "    plt.plot(w1[:415]-w2[:415])"
   ]
  },
  {
   "cell_type": "code",
   "execution_count": 58,
   "metadata": {},
   "outputs": [],
   "source": [
    "def lowdim_pca(train, mean): \n",
    "    A = train - mean_face\n",
    "    start = time.time()\n",
    "    S = (1/N)*np.dot(A.T,A)\n",
    "#     print(\"rank of lowdim cov: \", LA.matrix_rank(S))\n",
    "    w, v = LA.eig(S)\n",
    "    v /= LA.norm(v,ord=2,axis=0)\n",
    "\n",
    "    # u = principal components\n",
    "    u = np.dot(A,v)\n",
    "    u /= LA.norm(u,ord=2,axis=0)\n",
    "\n",
    "    id = np.argsort(np.abs(w))[::-1]\n",
    "    w = w[id]\n",
    "    u = u[:,id].real\n",
    "    end = time.time()\n",
    "    print(\"low dimension pca took \", end-start ,\" seconds.\")\n",
    "    # return eigen vectors sorted from largest to smallest\n",
    "    return w, u"
   ]
  },
  {
   "cell_type": "code",
   "execution_count": 59,
   "metadata": {},
   "outputs": [],
   "source": [
    "def normal_pca(train, mean):\n",
    "    A = train - mean_face\n",
    "    start = time.time()\n",
    "    S = (1/N)*np.dot(A,A.T)\n",
    "\n",
    "#     print(\"rank of S: \", LA.matrix_rank(S))\n",
    "#     print(\"S is symmetric: \", S == S.T)\n",
    "#     print()\n",
    "#     print(\"S is real: \", S.imag == 0)\n",
    "    \n",
    "    w,v = LA.eig(S)\n",
    "    v /= LA.norm(v,ord=2,axis=0)\n",
    "    # nz_u = principal components with non-zero eigenvals\n",
    "#     print(\"number of zero eigen vals: \", np.sum(w != 0))\n",
    "    nz_u = v[w != 0]\n",
    "    nz_u /= LA.norm(nz_u, ord=2, axis=0)\n",
    "    nz_w = w[w != 0]\n",
    "#     print(\"eigenvalues: \", nz_w)\n",
    "#     print(\"complex eigen vals are: \", nz_w[nz_w.imag != 0])\n",
    "    id = np.argsort(np.abs(nz_w))[::-1]\n",
    "    nz_w = nz_w[id].real\n",
    "    nz_u = nz_u[:,id].real\n",
    "    end = time.time()\n",
    "    print(\"normal pca took \", end-start ,\" seconds.\")\n",
    "    # return non-zero eigen vectors sorted from largest to smallest\n",
    "    return nz_w, nz_u    "
   ]
  },
  {
   "cell_type": "code",
   "execution_count": 65,
   "metadata": {},
   "outputs": [],
   "source": [
    "def class_rate(training_data, reconstructed):\n",
    "    dist, indx = nn_class(training_data.T, reconstructed)\n",
    "    result = []\n",
    "    for i in range(len(indx)):\n",
    "        if int(i/2)*8 <= indx[i] <= (int(i/2)+1)*8:\n",
    "            result.append(True)\n",
    "        else:\n",
    "            result.append(False)\n",
    "    return result"
   ]
  },
  {
   "cell_type": "code",
   "execution_count": 69,
   "metadata": {},
   "outputs": [],
   "source": [
    "def plot_class_rate(training_data, testing_data, mean_face, eig, image):\n",
    "    Y = []\n",
    "    for i in range(1,len(eig[0])):\n",
    "        faces = reconstruct(testing_data, mean_face, eig, i)\n",
    "        result = class_rate(training_data, faces)\n",
    "        Y.append(100*np.sum(result)/len(result))\n",
    "    fig = plt.figure()\n",
    "    ax1 = plt.plot(Y)\n",
    "    ax1.set_xlabel(\"Number of eigenvectors used\")\n",
    "    ax1.set_ylabel(\"Classification Rate (%)\")"
   ]
  },
  {
   "cell_type": "code",
   "execution_count": null,
   "metadata": {},
   "outputs": [],
   "source": []
  }
 ],
 "metadata": {
  "kernelspec": {
   "display_name": "Python 3",
   "language": "python",
   "name": "python3"
  },
  "language_info": {
   "codemirror_mode": {
    "name": "ipython",
    "version": 3
   },
   "file_extension": ".py",
   "mimetype": "text/x-python",
   "name": "python",
   "nbconvert_exporter": "python",
   "pygments_lexer": "ipython3",
   "version": "3.7.0"
  }
 },
 "nbformat": 4,
 "nbformat_minor": 2
}
