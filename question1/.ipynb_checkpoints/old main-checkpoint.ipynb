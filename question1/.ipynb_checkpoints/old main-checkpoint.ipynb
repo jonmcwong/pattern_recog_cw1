{
 "cells": [
  {
   "cell_type": "code",
   "execution_count": 120,
   "metadata": {},
   "outputs": [],
   "source": [
    "# crap version\n",
    "\n",
    "import scipy.io \n",
    "import numpy as np\n",
    "from numpy import linalg as LA\n",
    "import matplotlib\n",
    "import time\n",
    "from PIL import Image"
   ]
  },
  {
   "cell_type": "markdown",
   "metadata": {},
   "source": [
    "function for viewing images"
   ]
  },
  {
   "cell_type": "code",
   "execution_count": 121,
   "metadata": {},
   "outputs": [],
   "source": [
    "def show_img(img):\n",
    "    # shows image as png\n",
    "    # img must be a 2576 1d vector\n",
    "    new_img = img.copy()\n",
    "    new_img.resize((46,56))\n",
    "    im = Image.fromarray(np.transpose(new_img))\n",
    "    im.show()"
   ]
  },
  {
   "cell_type": "markdown",
   "metadata": {},
   "source": [
    "function for normalising zero centered images for viewing"
   ]
  },
  {
   "cell_type": "code",
   "execution_count": 122,
   "metadata": {},
   "outputs": [],
   "source": [
    "def norm_image(img):\n",
    "    new_img = img.copy() / np.max(img)\n",
    "    new_img = new_img * np.array([128]) + np.array([128])\n",
    "    return new_img"
   ]
  },
  {
   "cell_type": "markdown",
   "metadata": {},
   "source": [
    "Load the relevant data into .mat into a python dictionary"
   ]
  },
  {
   "cell_type": "code",
   "execution_count": 123,
   "metadata": {},
   "outputs": [],
   "source": [
    "mat = scipy.io.loadmat('face.mat')\n",
    "raw_data = np.transpose(mat['X'])"
   ]
  },
  {
   "cell_type": "code",
   "execution_count": 124,
   "metadata": {},
   "outputs": [
    {
     "name": "stdout",
     "output_type": "stream",
     "text": [
      "(520, 2576)\n"
     ]
    }
   ],
   "source": [
    "print(raw_data.shape)"
   ]
  },
  {
   "cell_type": "code",
   "execution_count": null,
   "metadata": {},
   "outputs": [],
   "source": []
  },
  {
   "cell_type": "markdown",
   "metadata": {},
   "source": [
    "init arrays for training and test data"
   ]
  },
  {
   "cell_type": "code",
   "execution_count": 125,
   "metadata": {},
   "outputs": [],
   "source": [
    "training_data = []\n",
    "# np.empty([int(520*0.8), 2576])\n",
    "testing_data = []\n",
    "# np.empty([int(520*0.2), 2576])"
   ]
  },
  {
   "cell_type": "markdown",
   "metadata": {},
   "source": [
    "create training and test data"
   ]
  },
  {
   "cell_type": "code",
   "execution_count": 126,
   "metadata": {},
   "outputs": [],
   "source": [
    "for x in range(52):\n",
    "        # 8/2 ratio for training and testing datasets\t\n",
    "\ttraining_data[x*8:(x+1)*8] = raw_data[x*10:x*10+8]\n",
    "\ttesting_data[x*2:(x+1)*2] = raw_data[x*10+8:(x+1)*10]\n",
    "training_data = np.array(training_data)\n",
    "testing_data = np.array(testing_data)"
   ]
  },
  {
   "cell_type": "code",
   "execution_count": 127,
   "metadata": {},
   "outputs": [
    {
     "name": "stdout",
     "output_type": "stream",
     "text": [
      "416\n"
     ]
    }
   ],
   "source": [
    "# show_img(training_data[0])\n",
    "print(len(training_data))"
   ]
  },
  {
   "cell_type": "markdown",
   "metadata": {},
   "source": [
    "Get deviation from the mean face"
   ]
  },
  {
   "cell_type": "code",
   "execution_count": 128,
   "metadata": {},
   "outputs": [],
   "source": [
    "mean_train_face = np.mean(training_data, axis=0)\n",
    "mean_test_face = np.mean(testing_data, axis=0)\n",
    "diff_train_face = training_data - mean_train_face.T\n",
    "diff_test_face = testing_data - mean_test_face.T"
   ]
  },
  {
   "cell_type": "code",
   "execution_count": 129,
   "metadata": {},
   "outputs": [
    {
     "name": "stdout",
     "output_type": "stream",
     "text": [
      "[ 96  93  95 ... 100  85 121]\n"
     ]
    }
   ],
   "source": [
    "print(testing_data[0])"
   ]
  },
  {
   "cell_type": "code",
   "execution_count": 130,
   "metadata": {},
   "outputs": [
    {
     "name": "stdout",
     "output_type": "stream",
     "text": [
      "[-16.72355769 -19.24278846 -17.34134615 ... -47.81490385 -46.81009615\n",
      " -40.23798077]\n"
     ]
    }
   ],
   "source": [
    "print(diff_train_face[0])"
   ]
  },
  {
   "cell_type": "markdown",
   "metadata": {},
   "source": [
    "compute the covariance matrix for low-dimensional computation"
   ]
  },
  {
   "cell_type": "code",
   "execution_count": 131,
   "metadata": {
    "scrolled": true
   },
   "outputs": [
    {
     "name": "stdout",
     "output_type": "stream",
     "text": [
      "time required to compute low-dim-cov-mat :  0.016025066375732422\n",
      "shape of cov_mat:  (416, 416)\n"
     ]
    }
   ],
   "source": [
    "start = time.time()\n",
    "low_cov_mat = np.dot(diff_train_face, diff_train_face.T)\n",
    "low_cov_mat /= np.max(low_cov_mat)\n",
    "end = time.time()\n",
    "print(\"time required to compute low-dim-cov-mat : \",end - start)\n",
    "print(\"shape of cov_mat: \", low_cov_mat.shape)"
   ]
  },
  {
   "cell_type": "code",
   "execution_count": 132,
   "metadata": {},
   "outputs": [
    {
     "name": "stdout",
     "output_type": "stream",
     "text": [
      "[[ 0.32255566  0.16278348  0.13764447 ... -0.0704572  -0.0444186\n",
      "  -0.03779732]\n",
      " [ 0.16278348  0.30789541  0.09494212 ... -0.06253763 -0.01616931\n",
      "  -0.01126782]\n",
      " [ 0.13764447  0.09494212  0.22369016 ... -0.02714564 -0.04682332\n",
      "  -0.03501472]\n",
      " ...\n",
      " [-0.0704572  -0.06253763 -0.02714564 ...  0.16547188  0.04396549\n",
      "   0.03206961]\n",
      " [-0.0444186  -0.01616931 -0.04682332 ...  0.04396549  0.20452765\n",
      "   0.14495793]\n",
      " [-0.03779732 -0.01126782 -0.03501472 ...  0.03206961  0.14495793\n",
      "   0.1906261 ]]\n"
     ]
    }
   ],
   "source": [
    "print(low_cov_mat)"
   ]
  },
  {
   "cell_type": "markdown",
   "metadata": {},
   "source": [
    "compute the eigenvalues and eigenvectors of the covariance matrix\n",
    "w -> eigenvalues\n",
    "v -> eigenvectors"
   ]
  },
  {
   "cell_type": "code",
   "execution_count": 133,
   "metadata": {},
   "outputs": [
    {
     "name": "stdout",
     "output_type": "stream",
     "text": [
      "time required to compute eigenvalues and eigenvectors of low-dim-cov-mat :  0.11452651023864746\n"
     ]
    }
   ],
   "source": [
    "start = time.time()\n",
    "low_w, low_v = LA.eig(low_cov_mat)\n",
    "# reconstruct original eignevectors\n",
    "# do we need to normalise\n",
    "low_computed_u = np.dot(training_data.T,low_v).T # is probably incredibly wrong\n",
    "end = time.time()\n",
    "print(\"time required to compute eigenvalues and eigenvectors of low-dim-cov-mat : \",end-start)"
   ]
  },
  {
   "cell_type": "code",
   "execution_count": 134,
   "metadata": {},
   "outputs": [
    {
     "name": "stdout",
     "output_type": "stream",
     "text": [
      "(416, 2576)\n"
     ]
    }
   ],
   "source": [
    "print(low_computed_u.shape)"
   ]
  },
  {
   "cell_type": "markdown",
   "metadata": {},
   "source": [
    "normalise eigen vectors for printing"
   ]
  },
  {
   "cell_type": "code",
   "execution_count": 135,
   "metadata": {},
   "outputs": [],
   "source": [
    "# for x in nz_eigenvectors:\n",
    "#     x /= LA.norm(nz_eigenvectors, ord=np.inf, axis=0)\n",
    "# nz_eigenvectors *= 128\n",
    "# nz_eigenvectors += 128"
   ]
  },
  {
   "cell_type": "code",
   "execution_count": 136,
   "metadata": {},
   "outputs": [],
   "source": [
    "# print(nz_eigenvectors)"
   ]
  },
  {
   "cell_type": "markdown",
   "metadata": {},
   "source": [
    "normalise for eigen vec for finding weights"
   ]
  },
  {
   "cell_type": "code",
   "execution_count": 137,
   "metadata": {},
   "outputs": [],
   "source": [
    "for x in low_computed_u:\n",
    "    x /= LA.norm(x, ord=2, axis=0)"
   ]
  },
  {
   "cell_type": "code",
   "execution_count": 138,
   "metadata": {},
   "outputs": [
    {
     "name": "stdout",
     "output_type": "stream",
     "text": [
      "0.9999999999999999\n"
     ]
    }
   ],
   "source": [
    "print(LA.norm(low_computed_u[0], ord=2, axis=0))"
   ]
  },
  {
   "cell_type": "code",
   "execution_count": 139,
   "metadata": {},
   "outputs": [],
   "source": [
    "# print(LA.norm(nz_eigenvectors, ord=2, axis=1))"
   ]
  },
  {
   "cell_type": "markdown",
   "metadata": {},
   "source": [
    "Calculate weights associated with each eigenvec"
   ]
  },
  {
   "cell_type": "code",
   "execution_count": 140,
   "metadata": {},
   "outputs": [],
   "source": [
    "lowdim_eigenvec = low_computed_u[0:417]"
   ]
  },
  {
   "cell_type": "code",
   "execution_count": 141,
   "metadata": {},
   "outputs": [
    {
     "name": "stdout",
     "output_type": "stream",
     "text": [
      "(416, 2576)\n"
     ]
    }
   ],
   "source": [
    "print(lowdim_eigenvec.shape)"
   ]
  },
  {
   "cell_type": "code",
   "execution_count": 142,
   "metadata": {},
   "outputs": [],
   "source": [
    "weights = np.dot(lowdim_eigenvec, training_data.T).T"
   ]
  },
  {
   "cell_type": "code",
   "execution_count": 143,
   "metadata": {},
   "outputs": [
    {
     "name": "stdout",
     "output_type": "stream",
     "text": [
      "(416, 416)\n"
     ]
    }
   ],
   "source": [
    "print(weights.shape)"
   ]
  },
  {
   "cell_type": "code",
   "execution_count": 144,
   "metadata": {},
   "outputs": [
    {
     "name": "stdout",
     "output_type": "stream",
     "text": [
      "[106 103 103 ...  37  36  41]\n",
      "(416, 2576)\n",
      "(416, 2576)\n",
      "[-0.0192394  -0.01952942 -0.02006991 ...  0.04474409  0.04445823\n",
      "  0.04521234]\n",
      "[106 103 103 ...  37  36  41]\n"
     ]
    }
   ],
   "source": [
    "print(training_data[0])\n",
    "print(low_computed_u.shape)\n",
    "print(training_data.shape)\n",
    "print(low_computed_u[1])\n",
    "print(training_data[0])"
   ]
  },
  {
   "cell_type": "code",
   "execution_count": 145,
   "metadata": {},
   "outputs": [],
   "source": [
    "lowdim_weights = weights"
   ]
  },
  {
   "cell_type": "code",
   "execution_count": 146,
   "metadata": {},
   "outputs": [
    {
     "name": "stdout",
     "output_type": "stream",
     "text": [
      "(416, 416)\n"
     ]
    }
   ],
   "source": [
    "print(lowdim_weights.shape)"
   ]
  },
  {
   "cell_type": "code",
   "execution_count": 147,
   "metadata": {},
   "outputs": [
    {
     "name": "stdout",
     "output_type": "stream",
     "text": [
      "(416, 2576)\n"
     ]
    }
   ],
   "source": [
    "print(lowdim_eigenvec.shape)"
   ]
  },
  {
   "cell_type": "markdown",
   "metadata": {},
   "source": [
    "Reconstruct differences from mean"
   ]
  },
  {
   "cell_type": "code",
   "execution_count": 148,
   "metadata": {},
   "outputs": [],
   "source": [
    "crappyfaces = np.dot(lowdim_eigenvec.T, lowdim_weights.T).T"
   ]
  },
  {
   "cell_type": "code",
   "execution_count": 149,
   "metadata": {},
   "outputs": [
    {
     "name": "stdout",
     "output_type": "stream",
     "text": [
      "(416, 2576)\n"
     ]
    }
   ],
   "source": [
    "print(crappyfaces.shape)"
   ]
  },
  {
   "cell_type": "code",
   "execution_count": 150,
   "metadata": {},
   "outputs": [
    {
     "name": "stdout",
     "output_type": "stream",
     "text": [
      "(2576,)\n"
     ]
    }
   ],
   "source": [
    "print(crappyfaces[0].shape)"
   ]
  },
  {
   "cell_type": "code",
   "execution_count": 151,
   "metadata": {},
   "outputs": [],
   "source": [
    "for x in crappyfaces[0:4]:\n",
    "    show_img(x - mean_train_face)\n",
    "for x in training_data[0:4]:\n",
    "    show_img(x)"
   ]
  },
  {
   "cell_type": "code",
   "execution_count": 152,
   "metadata": {},
   "outputs": [],
   "source": [
    "# for x in nz_eigenvectors[0:20]:\n",
    "#     show_img(x)"
   ]
  },
  {
   "cell_type": "markdown",
   "metadata": {},
   "source": [
    "sort form largest to smallest eigen vector"
   ]
  },
  {
   "cell_type": "code",
   "execution_count": 153,
   "metadata": {},
   "outputs": [],
   "source": [
    "low_eigenval_vec = [(x,y) for x, y in zip(low_w, low_computed_u)]\n",
    "sorted_low = sorted(low_eigenval_vec, key=lambda eigenv: eigenv[0], reverse=True)\n",
    "# print(sorted_low)"
   ]
  },
  {
   "cell_type": "markdown",
   "metadata": {},
   "source": [
    "compute the covariance matrix for normal PCA computation"
   ]
  },
  {
   "cell_type": "code",
   "execution_count": 154,
   "metadata": {},
   "outputs": [
    {
     "name": "stdout",
     "output_type": "stream",
     "text": [
      "Length of normal cov matrix 2576\n"
     ]
    }
   ],
   "source": [
    "normal_cov_mat = np.cov(np.transpose(diff_train_face)) # need timing\n",
    "print(\"Length of normal cov matrix\", len(normal_cov_mat))"
   ]
  },
  {
   "cell_type": "markdown",
   "metadata": {},
   "source": [
    "compute eigenvalues and vectors for normal PCA computation\n",
    "normal_t -> eigenvalues\n",
    "normal_u -> eigenvectors"
   ]
  },
  {
   "cell_type": "code",
   "execution_count": 155,
   "metadata": {},
   "outputs": [],
   "source": [
    "normal_t, normal_u = LA.eig(normal_cov_mat) # need to do timing"
   ]
  },
  {
   "cell_type": "markdown",
   "metadata": {},
   "source": [
    "get the eigen vectors corresponding to the largest 416 eigen values"
   ]
  },
  {
   "cell_type": "code",
   "execution_count": 156,
   "metadata": {},
   "outputs": [],
   "source": [
    "normal_eigenval_vec = [(x,y) for x, y in zip(normal_t, normal_u)]\n",
    "sorted_normal = sorted(normal_eigenval_vec, key=lambda eigenv: eigenv[0], reverse=True)\n",
    "sorted_normal = sorted_normal[0:416]"
   ]
  },
  {
   "cell_type": "markdown",
   "metadata": {},
   "source": [
    "check that the eigen values and the eigen vectors are the same from both computations"
   ]
  },
  {
   "cell_type": "code",
   "execution_count": 157,
   "metadata": {},
   "outputs": [
    {
     "name": "stdout",
     "output_type": "stream",
     "text": [
      "are the computed eigen values and vectors the same?\n",
      "size of sorted <built-in function len>\n",
      "f off\n"
     ]
    }
   ],
   "source": [
    "print(\"are the computed eigen values and vectors the same?\")\n",
    "print(\"size of sorted\", len)\n",
    "if np.array_equal(sorted_normal, sorted_low):\n",
    "\tprint(\"yoyoyo\")\n",
    "else:\n",
    "\tprint(\"f off\")"
   ]
  },
  {
   "cell_type": "code",
   "execution_count": null,
   "metadata": {},
   "outputs": [],
   "source": []
  }
 ],
 "metadata": {
  "kernelspec": {
   "display_name": "Python 3",
   "language": "python",
   "name": "python3"
  },
  "language_info": {
   "codemirror_mode": {
    "name": "ipython",
    "version": 3
   },
   "file_extension": ".py",
   "mimetype": "text/x-python",
   "name": "python",
   "nbconvert_exporter": "python",
   "pygments_lexer": "ipython3",
   "version": "3.7.3"
  }
 },
 "nbformat": 4,
 "nbformat_minor": 2
}
