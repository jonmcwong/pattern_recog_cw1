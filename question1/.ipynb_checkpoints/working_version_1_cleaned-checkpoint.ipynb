{
 "cells": [
  {
   "cell_type": "code",
   "execution_count": 240,
   "metadata": {},
   "outputs": [],
   "source": [
    "import scipy.io\n",
    "import numpy as np\n",
    "from numpy import linalg as LA\n",
    "import matplotlib\n",
    "import time\n",
    "from PIL import Image\n",
    "import matplotlib\n",
    "import matplotlib.pyplot as plt\n",
    "from sklearn import preprocessing\n",
    "import sympy"
   ]
  },
  {
   "cell_type": "code",
   "execution_count": 241,
   "metadata": {},
   "outputs": [],
   "source": [
    "def show_img(img):\n",
    "    temp = img.copy()\n",
    "    temp.resize((46,56))\n",
    "    im = Image.fromarray(temp.T)\n",
    "    im.show()"
   ]
  },
  {
   "cell_type": "code",
   "execution_count": 242,
   "metadata": {},
   "outputs": [],
   "source": [
    "# load data\n",
    "mat = scipy.io.loadmat('face.mat')\n",
    "raw_data = mat['X']\n",
    "\n",
    "D,N = raw_data.shape\n",
    "\n",
    "raw_data = np.transpose(raw_data)\n",
    "\n",
    "training_data = np.empty([int(520*0.8), 2576])\n",
    "testing_data = np.empty([int(520*0.2), 2576])\n",
    "\n",
    "# create training and test data\n",
    "for x in range(52):\n",
    "        # 8/2 ratio for training and testing datasets\n",
    "\ttraining_data[x*8:(x+1)*8] = raw_data[x*10:x*10+8]\n",
    "\ttesting_data[x*2:(x+1)*2] = raw_data[x*10+8:(x+1)*10]\n",
    "\n",
    "raw_data = np.transpose(raw_data)\n",
    "training_data = np.transpose(training_data)\n",
    "testing_data = np.transpose(testing_data)\n",
    "\n"
   ]
  },
  {
   "cell_type": "code",
   "execution_count": 243,
   "metadata": {},
   "outputs": [],
   "source": [
    "# get mean image matrix\n",
    "mean_face = training_data.mean(axis=1).reshape(-1,1)\n",
    "\n",
    "show_img(mean_face)"
   ]
  },
  {
   "cell_type": "code",
   "execution_count": 244,
   "metadata": {},
   "outputs": [
    {
     "name": "stdout",
     "output_type": "stream",
     "text": [
      "(416, 416)\n"
     ]
    }
   ],
   "source": [
    "A = training_data - mean_face\n",
    "S = (1/N)*np.dot(np.transpose(A),A)\n",
    "# S = np.cov(np.transpose(A))\n",
    "print(S.shape)\n",
    "w, v = LA.eig(S)\n",
    "v /= LA.norm(v,ord=2,axis=0)\n",
    "# u = principal components\n",
    "u = np.dot(A,v)\n",
    "u /= LA.norm(u,ord=2,axis=0)\n",
    "\n",
    "id = np.argsort(np.abs(w))[::-1]\n",
    "w = w[id]\n",
    "u = np.real(u[:,id])\n",
    "u_norm = u\n",
    "\n"
   ]
  },
  {
   "cell_type": "code",
   "execution_count": 245,
   "metadata": {},
   "outputs": [],
   "source": [
    "# for i in range(10):\n",
    "#     asdf = u_norm[:,i].reshape(46,56)\n",
    "#     im = Image.fromarray(asdf)\n",
    "#     im.show()"
   ]
  },
  {
   "cell_type": "code",
   "execution_count": 246,
   "metadata": {},
   "outputs": [],
   "source": [
    "input = testing_data\n",
    "delta = input - mean_face"
   ]
  },
  {
   "cell_type": "markdown",
   "metadata": {},
   "source": [
    "Compute weights for testing images"
   ]
  },
  {
   "cell_type": "code",
   "execution_count": 247,
   "metadata": {
    "scrolled": true
   },
   "outputs": [
    {
     "name": "stdout",
     "output_type": "stream",
     "text": [
      "(2576, 100)\n",
      "(2576, 104)\n",
      "(104, 100)\n"
     ]
    }
   ],
   "source": [
    "n_face = 100\n",
    "eigface = u_norm[:,:n_face]\n",
    "weights = np.matmul(delta.T, eigface)\n",
    "print(eigface.shape)\n",
    "print(delta.shape)\n",
    "print(weights.shape)"
   ]
  },
  {
   "cell_type": "code",
   "execution_count": 248,
   "metadata": {
    "scrolled": false
   },
   "outputs": [
    {
     "name": "stdout",
     "output_type": "stream",
     "text": [
      "[-13.88510814 -16.47668337 -11.93320382 ...  34.87826407  37.63854347\n",
      "  42.84121952]\n",
      "(104, 2576)\n"
     ]
    }
   ],
   "source": [
    "reconstructed_faces = np.matmul(weights, eigface.T)\n",
    "print(reconstructed_faces[0])\n",
    "print(reconstructed_faces.shape)\n",
    "\n",
    "face = []\n",
    "for i in range(len(reconstructed_faces)):\n",
    "    face.append(reconstructed_faces[i][:] + mean_face.T)\n",
    "\n",
    "\n",
    "for x in face[:20]:\n",
    "    show_img(x)"
   ]
  },
  {
   "cell_type": "code",
   "execution_count": null,
   "metadata": {},
   "outputs": [],
   "source": []
  }
 ],
 "metadata": {
  "kernelspec": {
   "display_name": "Python 3",
   "language": "python",
   "name": "python3"
  },
  "language_info": {
   "codemirror_mode": {
    "name": "ipython",
    "version": 3
   },
   "file_extension": ".py",
   "mimetype": "text/x-python",
   "name": "python",
   "nbconvert_exporter": "python",
   "pygments_lexer": "ipython3",
   "version": "3.7.0"
  }
 },
 "nbformat": 4,
 "nbformat_minor": 2
}
