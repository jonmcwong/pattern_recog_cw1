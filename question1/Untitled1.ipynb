{
 "cells": [
  {
   "cell_type": "code",
   "execution_count": 1,
   "metadata": {},
   "outputs": [
    {
     "ename": "NameError",
     "evalue": "name 'newdat' is not defined",
     "output_type": "error",
     "traceback": [
      "\u001b[0;31m---------------------------------------------------------------------------\u001b[0m",
      "\u001b[0;31mNameError\u001b[0m                                 Traceback (most recent call last)",
      "\u001b[0;32m<ipython-input-1-bfc117af9a3b>\u001b[0m in \u001b[0;36m<module>\u001b[0;34m()\u001b[0m\n\u001b[1;32m     45\u001b[0m \u001b[0;34m\u001b[0m\u001b[0m\n\u001b[1;32m     46\u001b[0m \u001b[0;31m# for new image newdat\u001b[0m\u001b[0;34m\u001b[0m\u001b[0;34m\u001b[0m\u001b[0m\n\u001b[0;32m---> 47\u001b[0;31m \u001b[0mdelta\u001b[0m \u001b[0;34m=\u001b[0m \u001b[0mnewdat\u001b[0m \u001b[0;34m-\u001b[0m \u001b[0mmean_face\u001b[0m\u001b[0;34m\u001b[0m\u001b[0m\n\u001b[0m\u001b[1;32m     48\u001b[0m \u001b[0mweights\u001b[0m \u001b[0;34m=\u001b[0m \u001b[0mnp\u001b[0m\u001b[0;34m.\u001b[0m\u001b[0mdot\u001b[0m\u001b[0;34m(\u001b[0m\u001b[0mnp\u001b[0m\u001b[0;34m.\u001b[0m\u001b[0mtranspose\u001b[0m\u001b[0;34m(\u001b[0m\u001b[0mu\u001b[0m\u001b[0;34m)\u001b[0m\u001b[0;34m,\u001b[0m \u001b[0mdelta\u001b[0m\u001b[0;34m)\u001b[0m\u001b[0;34m\u001b[0m\u001b[0m\n\u001b[1;32m     49\u001b[0m \u001b[0;34m\u001b[0m\u001b[0m\n",
      "\u001b[0;31mNameError\u001b[0m: name 'newdat' is not defined"
     ]
    }
   ],
   "source": [
    "import scipy.io\n",
    "import numpy as np\n",
    "from numpy import linalg as LA\n",
    "import matplotlib\n",
    "import time\n",
    "from PIL import Image\n",
    "import matplotlib\n",
    "import matplotlib.pyplot as plt\n",
    "\n",
    "def show_img(img):\n",
    "    # shows image as png\n",
    "    # img must be a 2576 1d vector\n",
    "    temp = img[:]\n",
    "    temp.reshape((46,56))\n",
    "    im = Image.fromarray(temp)\n",
    "    im.show()\n",
    "\n",
    "# load data\n",
    "mat = scipy.io.loadmat('face.mat')\n",
    "raw_data = mat['X']\n",
    "\n",
    "D,N = raw_data.shape\n",
    "\n",
    "# get mean image matrix\n",
    "mean_face = raw_data.mean(axis=1).reshape(-1,1)\n",
    "\n",
    "A = raw_data - mean_face\n",
    "S = (1/N)*np.dot(np.transpose(A),A)\n",
    "\n",
    "w, v = LA.eig(S)\n",
    "\n",
    "u = np.dot(A,v)\n",
    "\n",
    "id = np.argsort(np.abs(w))[::-1]\n",
    "\n",
    "w = w[id]\n",
    "u = np.real(u[:,id])\n",
    "\n",
    "\n",
    "\n",
    "for i in range(10):\n",
    "    asdf = u[:,i].reshape(46,56)\n",
    "    im = Image.fromarray(asdf)\n",
    "    im.show()\n",
    "\n",
    "# for new image newdat\n",
    "delta = newdat - mean_face\n",
    "weights = np.dot(np.transpose(u), delta)\n",
    "\n",
    "\n",
    "#reconstruct\n",
    "img = np.dot(u, weights)\n"
   ]
  },
  {
   "cell_type": "code",
   "execution_count": null,
   "metadata": {},
   "outputs": [],
   "source": []
  }
 ],
 "metadata": {
  "kernelspec": {
   "display_name": "Python 2",
   "language": "python",
   "name": "python2"
  },
  "language_info": {
   "codemirror_mode": {
    "name": "ipython",
    "version": 2
   },
   "file_extension": ".py",
   "mimetype": "text/x-python",
   "name": "python",
   "nbconvert_exporter": "python",
   "pygments_lexer": "ipython2",
   "version": "2.7.15"
  }
 },
 "nbformat": 4,
 "nbformat_minor": 2
}
