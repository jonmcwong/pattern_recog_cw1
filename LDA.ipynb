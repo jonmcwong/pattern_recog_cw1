{
 "cells": [
  {
   "cell_type": "code",
   "execution_count": 1,
   "metadata": {},
   "outputs": [],
   "source": [
    "# imports\n",
    "import scipy.io\n",
    "import numpy as np               # for arrays\n",
    "from numpy import linalg as LA   # for eigenvalues\n",
    "import matplotlib                # for plots\n",
    "import time                      # for time measurements\n",
    "from PIL import Image            # for showing images\n",
    "import matplotlib.pyplot as plt\n",
    "from sklearn import preprocessing\n",
    "import sympy\n",
    "from functions import *"
   ]
  },
  {
   "cell_type": "code",
   "execution_count": 2,
   "metadata": {},
   "outputs": [],
   "source": [
    "def show_img(img):\n",
    "    temp = img.copy()\n",
    "    temp.resize((46,56))\n",
    "    im = Image.fromarray(temp.T)\n",
    "    im.show()"
   ]
  },
  {
   "cell_type": "markdown",
   "metadata": {},
   "source": [
    "Get training/test splits"
   ]
  },
  {
   "cell_type": "code",
   "execution_count": 3,
   "metadata": {},
   "outputs": [],
   "source": [
    "# load data\n",
    "mat = scipy.io.loadmat('face.mat')\n",
    "raw_data = mat['X']\n",
    "\n",
    "raw_data = np.transpose(raw_data)\n",
    "N,D = raw_data.shape\n",
    "C = 52 # number of classes in dataset\n",
    "train_size = int(N * 0.8)\n",
    "test_size = int(N * 0.2)\n",
    "\n",
    "pca_training_data = np.empty([int(520*0.8), 2576])\n",
    "pca_testing_data = np.empty([int(520*0.2), 2576])\n",
    "lda_training_data = []\n",
    "lda_testing_data = []\n",
    "\n",
    "# create training and test data\n",
    "for x in range(52):\n",
    "    # 8/2 ratio for training and testing datasets\n",
    "    lda_training_data.append(raw_data[x*10:x*10+8].copy())\n",
    "    lda_testing_data.append(raw_data[x*10+8:(x+1)*10].copy())\n",
    "    \n",
    "\n",
    "lda_training_data = np.array(lda_training_data)\n",
    "lda_testing_data = np.array(lda_testing_data)\n",
    "pca_training_data = lda_training_data.reshape(train_size, D)\n",
    "pca_testing_data = lda_testing_data.reshape(test_size,D)\n"
   ]
  },
  {
   "cell_type": "markdown",
   "metadata": {},
   "source": [
    "We need to make sure that the generalised eigenvalue problem that we encounter when doing LDA is solvable by making sure that the within-class scatter matrix is non-singular.\n",
    "We do this by first reducing the dimension of the data via low dim PCA to an M <= N - c."
   ]
  },
  {
   "cell_type": "code",
   "execution_count": 4,
   "metadata": {},
   "outputs": [],
   "source": [
    "def get_Wpca(data, out_dim):\n",
    "    # low-dim PCA\n",
    "    S = data.dot(data.T)\n",
    "    w, v = LA.eigh(S)\n",
    "    u = data.T.dot(v)\n",
    "    u = u.T # the eigenvectors aren't normalised after this\n",
    "    u /= LA.norm(u, ord=2, axis=0)\n",
    "    \n",
    "    # sort wrt abs(eigenvalue)\n",
    "    id = np.argsort(np.abs(w))[::-1]\n",
    "    w = w[id]\n",
    "    u = u[id]\n",
    "    return u[0:out_dim].T\n",
    "    "
   ]
  },
  {
   "cell_type": "markdown",
   "metadata": {},
   "source": [
    "We want a projection that maximises the ratio between the between-class scatter matrix and the within class scatter matrix.\n",
    "The projection W turns out to be the solutions to the generalised eigen value problem. (Found via solving the langrangian. Slide 10-11)"
   ]
  },
  {
   "cell_type": "code",
   "execution_count": 5,
   "metadata": {},
   "outputs": [],
   "source": [
    "def get_Wlda(Sb_data, Sw_data, out_dim):\n",
    "    #code that gets value\n",
    "    lda_evals, lda_evecs = LA.eig(LA.inv(Sw_data).dot(Sb_data))\n",
    "    # print(\"magnitud of eigenvecs: \", LA.norm(lda_evecs.T[0], ord=2, axis=0))\n",
    "    lda_evecs = lda_evecs.T\n",
    "#     print(\"lda_evals: \", lda_evals)\n",
    "    \n",
    "    # sort wrt abs(eigenvalue)\n",
    "    id = np.argsort(np.abs(lda_evals))[::-1]\n",
    "    lda_evals = lda_evals[id]\n",
    "    lda_evecs = lda_evecs[id]\n",
    "    return lda_evecs[0:out_dim].T"
   ]
  },
  {
   "cell_type": "code",
   "execution_count": 6,
   "metadata": {},
   "outputs": [],
   "source": [
    "mean_all_data = pca_training_data.T.mean(axis=1).T\n",
    "\n",
    "# between class scatter (scalar)\n",
    "mean_class_data = lda_training_data.mean(axis=1)\n",
    "diff_class_mean = mean_class_data - mean_all_data\n",
    "Sb = np.dot(diff_class_mean.T, diff_class_mean)\n",
    "Sb *= np.array([8])\n",
    "\n",
    "# within class scatter (scalar)\n",
    "diff_class_data = lda_training_data - mean_class_data.reshape(52,1,-1)\n"
   ]
  },
  {
   "cell_type": "code",
   "execution_count": 14,
   "metadata": {},
   "outputs": [],
   "source": [
    "Sw = np.zeros((2576, 2576));\n",
    "for x in diff_class_data:\n",
    "    Sw += np.dot(x.T,x)\n",
    "\n",
    "Mpca = 45\n",
    "Mlda = 416\n",
    "Wpca = get_Wpca(pca_training_data, Mpca)\n",
    "reduced_Sb = Wpca.T.dot(Sb).dot(Wpca) # symmetric matrix hopefully\n",
    "reduced_Sw = Wpca.T.dot(Sw).dot(Wpca)\n",
    "Wlda = get_Wlda(reduced_Sb, reduced_Sw, Mlda)\n",
    "\n",
    "Wopt = Wlda.T.dot(Wpca.T).T\n",
    "Wopt /= LA.norm(Wopt, ord=2, axis=1, keepdims=True)\n",
    "# print(\"Wopt: \", Wopt.shape, \" Wlda.T: \", Wlda.T.shape, \" Wpca.T \", Wpca.T.shape)"
   ]
  },
  {
   "cell_type": "markdown",
   "metadata": {},
   "source": [
    "We can now express each data point as product of a weight vector with Wopt. This weight vector can be used to classify each data point using nearest neighbour"
   ]
  },
  {
   "cell_type": "code",
   "execution_count": 15,
   "metadata": {},
   "outputs": [
    {
     "name": "stdout",
     "output_type": "stream",
     "text": [
      "(45, 416)\n",
      "(45, 104)\n",
      "(45, 45)\n",
      "(2576, 45)\n",
      "(2576, 45)\n"
     ]
    }
   ],
   "source": [
    "training_face_weights = Wopt.T.dot(pca_training_data.T)\n",
    "testing_face_weights = Wopt.T.dot(pca_testing_data.T)\n",
    "\n",
    "print(training_face_weights.shape)\n",
    "print(testing_face_weights.shape)\n",
    "print(Wlda.shape)\n",
    "print(Wpca.shape)\n",
    "print(Wopt.shape)"
   ]
  },
  {
   "cell_type": "markdown",
   "metadata": {},
   "source": [
    "result = class_rate(training_face_weights.real, testing_face_weights.T.real)\n",
    "print(\"classification rate: \", 100*np.sum(result)/len(result), \"%.\")"
   ]
  },
  {
   "cell_type": "code",
   "execution_count": 16,
   "metadata": {},
   "outputs": [
    {
     "data": {
      "image/png": "[encoded data removed]",
      "text/plain": [
       "<Figure size 432x288 with 1 Axes>"
      ]
     },
     "metadata": {
      "needs_background": "light"
     },
     "output_type": "display_data"
    }
   ],
   "source": [
    "results = vary_Mlda(training_face_weights.T.real, testing_face_weights.T.real)\n",
    "plot_data(\"yo\",\"hnth\",\"onetu\",results)"
   ]
  },
  {
   "cell_type": "code",
   "execution_count": 10,
   "metadata": {},
   "outputs": [
    {
     "name": "stdout",
     "output_type": "stream",
     "text": [
      "[5.769230769230769, 23.076923076923077, 34.61538461538461, 45.19230769230769, 53.84615384615385, 60.57692307692308, 65.38461538461539, 70.1923076923077, 75.0, 77.88461538461539, 79.8076923076923, 81.73076923076923, 85.57692307692308, 87.5, 87.5, 87.5, 87.5, 87.5, 88.46153846153847, 87.5, 83.65384615384616, 83.65384615384616, 85.57692307692308, 84.61538461538461, 88.46153846153847, 88.46153846153847, 87.5, 87.5, 89.42307692307692, 86.53846153846153, 84.61538461538461, 85.57692307692308, 86.53846153846153, 85.57692307692308, 85.57692307692308, 83.65384615384616, 82.6923076923077, 82.6923076923077, 82.6923076923077, 82.6923076923077, 82.6923076923077, 80.76923076923077, 79.8076923076923, 79.8076923076923, 79.8076923076923, 83.65384615384616, 82.6923076923077, 81.73076923076923, 81.73076923076923, 82.6923076923077]\n"
     ]
    }
   ],
   "source": [
    "print(results)"
   ]
  },
  {
   "cell_type": "code",
   "execution_count": null,
   "metadata": {},
   "outputs": [],
   "source": []
  }
 ],
 "metadata": {
  "kernelspec": {
   "display_name": "Python 3",
   "language": "python",
   "name": "python3"
  },
  "language_info": {
   "codemirror_mode": {
    "name": "ipython",
    "version": 3
   },
   "file_extension": ".py",
   "mimetype": "text/x-python",
   "name": "python",
   "nbconvert_exporter": "python",
   "pygments_lexer": "ipython3",
   "version": "3.6.9"
  }
 },
 "nbformat": 4,
 "nbformat_minor": 2
}
