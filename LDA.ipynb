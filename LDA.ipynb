{
 "cells": [
  {
   "cell_type": "code",
   "execution_count": 1,
   "metadata": {},
   "outputs": [],
   "source": [
    "# imports\n",
    "import scipy.io\n",
    "import numpy as np               # for arrays\n",
    "from numpy import linalg as LA   # for eigenvalues\n",
    "import matplotlib                # for plots\n",
    "import time                      # for time measurements\n",
    "from PIL import Image            # for showing images\n",
    "import matplotlib.pyplot as plt\n",
    "from sklearn import preprocessing\n",
    "import sympy\n",
    "from functions import *"
   ]
  },
  {
   "cell_type": "code",
   "execution_count": 2,
   "metadata": {},
   "outputs": [],
   "source": [
    "def show_img(img):\n",
    "    temp = img.copy()\n",
    "    temp.resize((46,56))\n",
    "    im = Image.fromarray(temp.T)\n",
    "    im.show()"
   ]
  },
  {
   "cell_type": "markdown",
   "metadata": {},
   "source": [
    "Get training/test splits"
   ]
  },
  {
   "cell_type": "code",
   "execution_count": 3,
   "metadata": {},
   "outputs": [],
   "source": [
    "# load data\n",
    "mat = scipy.io.loadmat('face.mat')\n",
    "raw_data = mat['X']\n",
    "\n",
    "raw_data = np.transpose(raw_data)\n",
    "N,D = raw_data.shape\n",
    "C = 52 # number of classes in dataset\n",
    "train_size = int(N * 0.8)\n",
    "test_size = int(N * 0.2)\n",
    "\n",
    "pca_training_data = np.empty([int(520*0.8), 2576])\n",
    "pca_testing_data = np.empty([int(520*0.2), 2576])\n",
    "lda_training_data = []\n",
    "lda_testing_data = []\n",
    "\n",
    "# create training and test data\n",
    "for x in range(52):\n",
    "    # 8/2 ratio for training and testing datasets\n",
    "    lda_training_data.append(raw_data[x*10:x*10+8].copy())\n",
    "    lda_testing_data.append(raw_data[x*10+8:(x+1)*10].copy())\n",
    "    \n",
    "\n",
    "lda_training_data = np.array(lda_training_data)\n",
    "lda_testing_data = np.array(lda_testing_data)\n",
    "pca_training_data = lda_training_data.reshape(train_size, D)\n",
    "pca_testing_data = lda_testing_data.reshape(test_size,D)\n"
   ]
  },
  {
   "cell_type": "markdown",
   "metadata": {},
   "source": [
    "We need to make sure that the generalised eigenvalue problem that we encounter when doing LDA is solvable by making sure that the within-class scatter matrix is non-singular.\n",
    "We do this by first reducing the dimension of the data via low dim PCA to an M <= N - c."
   ]
  },
  {
   "cell_type": "code",
   "execution_count": 149,
   "metadata": {},
   "outputs": [],
   "source": [
    "def get_Wpca(data, out_dim,random, M0, M1):\n",
    "    # low-dim PCA\n",
    "    S = data.dot(data.T)\n",
    "    w, v = LA.eigh(S)\n",
    "    u = data.T.dot(v)\n",
    "    u = u.T # the eigenvectors aren't normalised after this\n",
    "    u /= LA.norm(u, ord=2, axis=0)\n",
    "    \n",
    "    # sort wrt abs(eigenvalue)\n",
    "    id = np.argsort(np.abs(w))[::-1]\n",
    "    w = w[id]\n",
    "    u = u[id]\n",
    "    if random == True:\n",
    "        origin = u[:M0].copy()\n",
    "        remaining = u[M0:].copy()\n",
    "        random_features = remaining[np.random.choice(remaining.shape[0], M1, replace=False), :]\n",
    "        new_u = np.concatenate((origin,random_features), axis=0)\n",
    "        print(new_u.T)\n",
    "        return new_u.T\n",
    "        \n",
    "        \n",
    "    else:\n",
    "        print(u[0:out_dim].T.shape)\n",
    "        return u[0:out_dim].T\n",
    "    "
   ]
  },
  {
   "cell_type": "code",
   "execution_count": 150,
   "metadata": {},
   "outputs": [
    {
     "name": "stdout",
     "output_type": "stream",
     "text": [
      "[[ 9.31660052e-01 -3.22901718e-02 -1.22625745e-02 ...  1.96105618e-02\n",
      "  -6.95036311e-03  2.21843495e-02]\n",
      " [ 9.31340889e-01 -3.56428875e-02 -1.74556041e-02 ...  2.26882730e-02\n",
      "  -8.87043529e-03  2.39239851e-02]\n",
      " [ 9.28619689e-01 -3.53733064e-02 -2.01464804e-02 ...  2.06266492e-02\n",
      "  -1.76749052e-02  1.91217162e-02]\n",
      " ...\n",
      " [ 8.48234530e-01 -1.99396767e-02 -1.24037726e-02 ...  1.55932243e-02\n",
      "   2.72845764e-03 -1.83387634e-02]\n",
      " [ 8.42107495e-01 -1.33790348e-02 -1.81223296e-02 ...  7.47743902e-03\n",
      "   1.32605676e-04 -2.59047278e-02]\n",
      " [ 8.35037189e-01 -1.23124376e-02 -1.81815847e-02 ... -3.76874167e-04\n",
      "   1.12972372e-03 -2.80292349e-02]]\n"
     ]
    }
   ],
   "source": [
    "yo = get_Wpca(pca_training_data, 400, True, 50, 50)"
   ]
  },
  {
   "cell_type": "markdown",
   "metadata": {},
   "source": [
    "We want a projection that maximises the ratio between the between-class scatter matrix and the within class scatter matrix.\n",
    "The projection W turns out to be the solutions to the generalised eigen value problem. (Found via solving the langrangian. Slide 10-11)"
   ]
  },
  {
   "cell_type": "code",
   "execution_count": 5,
   "metadata": {},
   "outputs": [],
   "source": [
    "def get_Wlda(Sb_data, Sw_data, out_dim):\n",
    "    #code that gets value\n",
    "    lda_evals, lda_evecs = LA.eig(LA.inv(Sw_data).dot(Sb_data))\n",
    "    # print(\"magnitud of eigenvecs: \", LA.norm(lda_evecs.T[0], ord=2, axis=0))\n",
    "    lda_evecs = lda_evecs.T\n",
    "#     print(\"lda_evals: \", lda_evals)\n",
    "    \n",
    "    # sort wrt abs(eigenvalue)\n",
    "    id = np.argsort(np.abs(lda_evals))[::-1]\n",
    "    lda_evals = lda_evals[id]\n",
    "    lda_evecs = lda_evecs[id]\n",
    "    return lda_evecs[0:out_dim].T"
   ]
  },
  {
   "cell_type": "code",
   "execution_count": 154,
   "metadata": {},
   "outputs": [],
   "source": [
    "def get_Wopt(pca_data, lda_data, Mpca, Mlda, random=False, M0=46, M1=200, committee_size=2):\n",
    "    # random is true, returns tensor of random Wopts\n",
    "    mean_all_data = pca_data.T.mean(axis=1).T\n",
    "\n",
    "    # between class scatter (scalar)\n",
    "    mean_class_data = lda_data.mean(axis=1)\n",
    "    diff_class_mean = mean_class_data - mean_all_data\n",
    "    Sb = np.dot(diff_class_mean.T, diff_class_mean)\n",
    "    Sb *= np.array([8])\n",
    "\n",
    "    # within class scatter (scalar)\n",
    "    diff_class_data = lda_data - mean_class_data.reshape(52,1,-1)\n",
    "    Sw = np.zeros((2576, 2576));\n",
    "    for x in diff_class_data:\n",
    "        Sw += np.dot(x.T,x)\n",
    "    #use\n",
    "    new_ensemble = np.empty([committee_size, 2576, M0 + M1])\n",
    "    for x in range(committee_size):\n",
    "        Wpca = get_Wpca(pca_data, Mpca, True, M0, M1)\n",
    "        reduced_Sb = Wpca.T.dot(Sb).dot(Wpca) # symmetric matrix hopefully\n",
    "        reduced_Sw = Wpca.T.dot(Sw).dot(Wpca)\n",
    "        Wlda = get_Wlda(reduced_Sb, reduced_Sw, Mlda)\n",
    "\n",
    "        Wopt = Wlda.T.dot(Wpca.T).T\n",
    "        Wopt /= LA.norm(Wopt, ord=2, axis=1, keepdims=True)\n",
    "        new_ensemble[x] = Wopt\n",
    "        \n",
    "#     print(\"Wopt: \", Wopt.shape, \" Wlda.T: \", Wlda.T.shape, \" Wpca.T \", Wpca.T.shape)\n",
    "    \n",
    "    return new_ensemble"
   ]
  },
  {
   "cell_type": "markdown",
   "metadata": {},
   "source": [
    "We can now express each data point as product of a weight vector with Wopt. This weight vector can be used to classify each data point using nearest neighbour"
   ]
  },
  {
   "cell_type": "code",
   "execution_count": 155,
   "metadata": {},
   "outputs": [],
   "source": [
    "def get_PCALDA_accuracy(Mpca, Mlda,random=False, M0=46, M1=200, committee_size=2):\n",
    "    \n",
    "    W = get_Wopt(pca_training_data, lda_training_data, Mpca, Mlda, random, M0, M1, committee_size)\n",
    "    print(\"reached here\")\n",
    "    \n",
    "    training_face_weights = np.matmul(np.transpose(W,(0,2,1)),pca_training_data.T)\n",
    "    testing_face_weights = np.matmul(np.transpose(W,(0,2,1)),pca_testing_data.T)\n",
    "    print(\"got here\")\n",
    "    \n",
    "    result = class_rate(training_face_weights.T.real, testing_face_weights.T.real)\n",
    "    acc = 100*np.sum(result, axis=-1)/len(result)\n",
    "    print(\"Mpca: \", Mpca, \" Mlda: \", Mlda, \" Classification rate: \", acc, \"%.\")\n",
    "    return acc\n"
   ]
  },
  {
   "cell_type": "code",
   "execution_count": 31,
   "metadata": {},
   "outputs": [
    {
     "name": "stdout",
     "output_type": "stream",
     "text": [
      "Wopt:  (2576, 12)  Wlda.T:  (12, 46)  Wpca.T  (46, 2576)\n",
      "Mpca:  46  Mlda:  12  Classification rate:  80.76923076923077 %.\n",
      "80.76923076923077\n"
     ]
    }
   ],
   "source": [
    "percent = get_PCALDA_accuracy(46,12)\n",
    "print(percent)"
   ]
  },
  {
   "cell_type": "markdown",
   "metadata": {},
   "source": [
    "Now lets test the accuracy of the classifier as we vary Mpca from 1 to 416 and keeping LDA at 416. \n",
    "When the dimensions D is larger than the number of data points, the within-class covariance matrix becomes singular and so cannot be inverted. Therefore, PCA is used on the data before LDA in order to reduce the dimensions of the data and make Sw non-singular.\n",
    "\n",
    "Another reason is that having an Mpca too high is known to make the model overfit. This is because when the dimension of data is much larger than the number of data points, finding a linear projection into a lower dimension that separates the classes completely becomes very easy and the projection found often does not generalise well. In this light, PCA can be seen as a regularisation technique.\n",
    "\n",
    "https://stats.stackexchange.com/questions/106121/does-it-make-sense-to-combine-pca-and-lda\n",
    "\n",
    "For this dataset, the best regularisation is Mpca = 46"
   ]
  },
  {
   "cell_type": "code",
   "execution_count": 9,
   "metadata": {},
   "outputs": [],
   "source": [
    "# results = []\n",
    "# for i in range(1, 417):\n",
    "#     results.append(get_PCALDA_accuracy(i, 417))\n"
   ]
  },
  {
   "cell_type": "code",
   "execution_count": 10,
   "metadata": {
    "scrolled": true
   },
   "outputs": [
    {
     "data": {
      "image/png": "[encoded data removed]",
      "text/plain": [
       "<Figure size 432x288 with 1 Axes>"
      ]
     },
     "metadata": {
      "needs_background": "light"
     },
     "output_type": "display_data"
    }
   ],
   "source": [
    "results = np.loadtxt(\"VaryingPca.txt\")\n",
    "plot_data(\"Nearest Neigbhour Classification accuracy against Mpca\", \"Mpca\", \"Classification accuracy %\", results)\n",
    "# plt.savefig(\"Vary_Mpca_NN.png\")\n",
    "# np.savetxt(\"VaryingPca.txt\", results)\n",
    "# this graph shows that the test accuracy initially increases as Mpca increases as the model is given more \n",
    "# information to work with. Maximum accuracy is reached when Mpca is at 46. When Mpca increases above 46, \n",
    "# the model overfits and test accuracy decreases. This problem can be solved by using more data samples.\n"
   ]
  },
  {
   "cell_type": "code",
   "execution_count": 11,
   "metadata": {},
   "outputs": [],
   "source": [
    "# ldaresults = []\n",
    "# for i in range(1, 417):\n",
    "#     ldaresults.append(get_PCALDA_accuracy(47, i))\n"
   ]
  },
  {
   "cell_type": "code",
   "execution_count": 19,
   "metadata": {},
   "outputs": [
    {
     "data": {
      "image/png": "[encoded data removed]",
      "text/plain": [
       "<Figure size 432x288 with 1 Axes>"
      ]
     },
     "metadata": {
      "needs_background": "light"
     },
     "output_type": "display_data"
    }
   ],
   "source": [
    "ldaresults = np.loadtxt(\"VaryingLda.txt\")\n",
    "ldaresults2 = ldaresults[0:47]\n",
    "plot_data(\"Nearest Neighbour Classification accuracy against Mlda 2\",\"Mlda\",\"Classification accuracy\", ldaresults2)\n",
    "# np.savetxt(\"VaryingLda.txt\", ldaresults)\n",
    "# this graph shows that only the first 50 largest eigenvalues from LDA give discriminate between the different classes\n",
    "# the smallest eigenvalues are too small or zero"
   ]
  },
  {
   "cell_type": "markdown",
   "metadata": {},
   "source": [
    "Ensembles aim to create stronger classifiers by fusing the predictions of multiple weaker classifiers in the hope that their individual strengths cover different areas of the input space or that the weak experts reinforce each others decisions. The weak classifiers in an ensemble can be created by either randomly sampling in feature space or by training on random subsets of the data set. There output is then fused by a fusion rule, the type of fusion rule chosen affects that overall performance of the model"
   ]
  },
  {
   "cell_type": "markdown",
   "metadata": {},
   "source": [
    "First do pca, then do LDA on a random subset of those principal components\n",
    "get their individual classifications \n",
    "get their combined classification using some fusion rule - READ UP\n",
    "start decimating models randomly, down to 1 model to see how the number of models affects output score\n",
    "\n",
    "Get random samples of data sets create samples randomly and then classify each data set in series\n",
    "keep their models and run them individually on the whole dataset\n",
    "combine their outputs using some fusion rule\n",
    "decimate models randomly like above\n",
    "\n",
    "try different fusion rules for each different model number\n",
    "\n",
    "the effect of different fusion rules on a committee machines composed of varying number of weaker machines\n",
    "\n",
    "Vary randomness parametre\n",
    "\n",
    "\n",
    "\n"
   ]
  },
  {
   "cell_type": "code",
   "execution_count": 156,
   "metadata": {},
   "outputs": [
    {
     "name": "stdout",
     "output_type": "stream",
     "text": [
      "[[ 9.31660052e-01 -3.22901718e-02 -1.22625745e-02 ...  2.10120162e-02\n",
      "  -2.49457031e-03  9.08402299e-04]\n",
      " [ 9.31340889e-01 -3.56428875e-02 -1.74556041e-02 ...  2.15498614e-02\n",
      "   8.38363156e-03 -2.54950268e-03]\n",
      " [ 9.28619689e-01 -3.53733064e-02 -2.01464804e-02 ...  1.72556866e-02\n",
      "   1.23565648e-02 -4.51040892e-04]\n",
      " ...\n",
      " [ 8.48234530e-01 -1.99396767e-02 -1.24037726e-02 ...  6.49767223e-03\n",
      "  -2.51964401e-02 -2.86517076e-03]\n",
      " [ 8.42107495e-01 -1.33790348e-02 -1.81223296e-02 ...  1.71444123e-02\n",
      "  -2.97610510e-02  2.01966439e-03]\n",
      " [ 8.35037189e-01 -1.23124376e-02 -1.81815847e-02 ...  1.47237941e-02\n",
      "  -3.07668101e-02  8.24854498e-03]]\n"
     ]
    },
    {
     "name": "stderr",
     "output_type": "stream",
     "text": [
      "/home/jmw16/anaconda3/lib/python3.6/site-packages/ipykernel_launcher.py:26: ComplexWarning: Casting complex values to real discards the imaginary part\n"
     ]
    },
    {
     "name": "stdout",
     "output_type": "stream",
     "text": [
      "[[ 0.93166005 -0.03229017 -0.01226257 ...  0.01506729  0.00283187\n",
      "   0.01334974]\n",
      " [ 0.93134089 -0.03564289 -0.0174556  ...  0.00753366  0.01772233\n",
      "   0.01417849]\n",
      " [ 0.92861969 -0.03537331 -0.02014648 ...  0.01488951  0.02633206\n",
      "   0.0217727 ]\n",
      " ...\n",
      " [ 0.84823453 -0.01993968 -0.01240377 ... -0.01326816 -0.02152531\n",
      "   0.01936201]\n",
      " [ 0.8421075  -0.01337903 -0.01812233 ... -0.01615289 -0.03834446\n",
      "   0.01955922]\n",
      " [ 0.83503719 -0.01231244 -0.01818158 ...  0.00138556 -0.02761683\n",
      "   0.01727561]]\n",
      "reached here\n",
      "got here\n"
     ]
    },
    {
     "ename": "ValueError",
     "evalue": "Found array with dim 3. Estimator expected <= 2.",
     "output_type": "error",
     "traceback": [
      "\u001b[0;31m---------------------------------------------------------------------------\u001b[0m",
      "\u001b[0;31mValueError\u001b[0m                                Traceback (most recent call last)",
      "\u001b[0;32m<ipython-input-156-a5407b92634e>\u001b[0m in \u001b[0;36m<module>\u001b[0;34m\u001b[0m\n\u001b[0;32m----> 1\u001b[0;31m \u001b[0mensemble_results\u001b[0m \u001b[0;34m=\u001b[0m \u001b[0mget_PCALDA_accuracy\u001b[0m\u001b[0;34m(\u001b[0m\u001b[0;36m416\u001b[0m\u001b[0;34m,\u001b[0m \u001b[0;36m416\u001b[0m\u001b[0;34m,\u001b[0m \u001b[0mrandom\u001b[0m\u001b[0;34m=\u001b[0m\u001b[0;32mTrue\u001b[0m\u001b[0;34m)\u001b[0m\u001b[0;34m\u001b[0m\u001b[0;34m\u001b[0m\u001b[0m\n\u001b[0m",
      "\u001b[0;32m<ipython-input-155-da1b493dc02f>\u001b[0m in \u001b[0;36mget_PCALDA_accuracy\u001b[0;34m(Mpca, Mlda, random, M0, M1, committee_size)\u001b[0m\n\u001b[1;32m      8\u001b[0m     \u001b[0mprint\u001b[0m\u001b[0;34m(\u001b[0m\u001b[0;34m\"got here\"\u001b[0m\u001b[0;34m)\u001b[0m\u001b[0;34m\u001b[0m\u001b[0;34m\u001b[0m\u001b[0m\n\u001b[1;32m      9\u001b[0m \u001b[0;34m\u001b[0m\u001b[0m\n\u001b[0;32m---> 10\u001b[0;31m     \u001b[0mresult\u001b[0m \u001b[0;34m=\u001b[0m \u001b[0mclass_rate\u001b[0m\u001b[0;34m(\u001b[0m\u001b[0mtraining_face_weights\u001b[0m\u001b[0;34m.\u001b[0m\u001b[0mT\u001b[0m\u001b[0;34m.\u001b[0m\u001b[0mreal\u001b[0m\u001b[0;34m,\u001b[0m \u001b[0mtesting_face_weights\u001b[0m\u001b[0;34m.\u001b[0m\u001b[0mT\u001b[0m\u001b[0;34m.\u001b[0m\u001b[0mreal\u001b[0m\u001b[0;34m)\u001b[0m\u001b[0;34m\u001b[0m\u001b[0;34m\u001b[0m\u001b[0m\n\u001b[0m\u001b[1;32m     11\u001b[0m     \u001b[0macc\u001b[0m \u001b[0;34m=\u001b[0m \u001b[0;36m100\u001b[0m\u001b[0;34m*\u001b[0m\u001b[0mnp\u001b[0m\u001b[0;34m.\u001b[0m\u001b[0msum\u001b[0m\u001b[0;34m(\u001b[0m\u001b[0mresult\u001b[0m\u001b[0;34m,\u001b[0m \u001b[0maxis\u001b[0m\u001b[0;34m=\u001b[0m\u001b[0;34m-\u001b[0m\u001b[0;36m1\u001b[0m\u001b[0;34m)\u001b[0m\u001b[0;34m/\u001b[0m\u001b[0mlen\u001b[0m\u001b[0;34m(\u001b[0m\u001b[0mresult\u001b[0m\u001b[0;34m)\u001b[0m\u001b[0;34m\u001b[0m\u001b[0;34m\u001b[0m\u001b[0m\n\u001b[1;32m     12\u001b[0m     \u001b[0mprint\u001b[0m\u001b[0;34m(\u001b[0m\u001b[0;34m\"Mpca: \"\u001b[0m\u001b[0;34m,\u001b[0m \u001b[0mMpca\u001b[0m\u001b[0;34m,\u001b[0m \u001b[0;34m\" Mlda: \"\u001b[0m\u001b[0;34m,\u001b[0m \u001b[0mMlda\u001b[0m\u001b[0;34m,\u001b[0m \u001b[0;34m\" Classification rate: \"\u001b[0m\u001b[0;34m,\u001b[0m \u001b[0macc\u001b[0m\u001b[0;34m,\u001b[0m \u001b[0;34m\"%.\"\u001b[0m\u001b[0;34m)\u001b[0m\u001b[0;34m\u001b[0m\u001b[0;34m\u001b[0m\u001b[0m\n",
      "\u001b[0;32m~/Documents/Repos/FourthYear/pattern_recognition/functions.py\u001b[0m in \u001b[0;36mclass_rate\u001b[0;34m(training_data, reconstructed)\u001b[0m\n\u001b[1;32m    129\u001b[0m \u001b[0;32mdef\u001b[0m \u001b[0mclass_rate\u001b[0m\u001b[0;34m(\u001b[0m\u001b[0mtraining_data\u001b[0m\u001b[0;34m,\u001b[0m \u001b[0mreconstructed\u001b[0m\u001b[0;34m)\u001b[0m\u001b[0;34m:\u001b[0m\u001b[0;34m\u001b[0m\u001b[0;34m\u001b[0m\u001b[0m\n\u001b[1;32m    130\u001b[0m     \u001b[0;32mif\u001b[0m \u001b[0mtraining_data\u001b[0m\u001b[0;34m[\u001b[0m\u001b[0;36m0\u001b[0m\u001b[0;34m]\u001b[0m\u001b[0;34m.\u001b[0m\u001b[0mshape\u001b[0m \u001b[0;34m==\u001b[0m \u001b[0mreconstructed\u001b[0m\u001b[0;34m[\u001b[0m\u001b[0;36m0\u001b[0m\u001b[0;34m]\u001b[0m\u001b[0;34m.\u001b[0m\u001b[0mshape\u001b[0m\u001b[0;34m:\u001b[0m\u001b[0;34m\u001b[0m\u001b[0;34m\u001b[0m\u001b[0m\n\u001b[0;32m--> 131\u001b[0;31m         \u001b[0mdist\u001b[0m\u001b[0;34m,\u001b[0m \u001b[0mindx\u001b[0m \u001b[0;34m=\u001b[0m \u001b[0mnn_class\u001b[0m\u001b[0;34m(\u001b[0m\u001b[0mtraining_data\u001b[0m\u001b[0;34m,\u001b[0m \u001b[0mreconstructed\u001b[0m\u001b[0;34m)\u001b[0m\u001b[0;34m\u001b[0m\u001b[0;34m\u001b[0m\u001b[0m\n\u001b[0m\u001b[1;32m    132\u001b[0m         \u001b[0mresult\u001b[0m \u001b[0;34m=\u001b[0m \u001b[0;34m[\u001b[0m\u001b[0;34m]\u001b[0m\u001b[0;34m\u001b[0m\u001b[0;34m\u001b[0m\u001b[0m\n\u001b[1;32m    133\u001b[0m         \u001b[0;32mfor\u001b[0m \u001b[0mi\u001b[0m \u001b[0;32min\u001b[0m \u001b[0mrange\u001b[0m\u001b[0;34m(\u001b[0m\u001b[0mlen\u001b[0m\u001b[0;34m(\u001b[0m\u001b[0mindx\u001b[0m\u001b[0;34m)\u001b[0m\u001b[0;34m)\u001b[0m\u001b[0;34m:\u001b[0m\u001b[0;34m\u001b[0m\u001b[0;34m\u001b[0m\u001b[0m\n",
      "\u001b[0;32m~/Documents/Repos/FourthYear/pattern_recognition/functions.py\u001b[0m in \u001b[0;36mnn_class\u001b[0;34m(X, Y)\u001b[0m\n\u001b[1;32m    123\u001b[0m     \u001b[0;31m# indices denotes the index of the nearest neighbour of Y in X\u001b[0m\u001b[0;34m\u001b[0m\u001b[0;34m\u001b[0m\u001b[0;34m\u001b[0m\u001b[0m\n\u001b[1;32m    124\u001b[0m     \u001b[0;31m# indices denotes the corresponding distance\u001b[0m\u001b[0;34m\u001b[0m\u001b[0;34m\u001b[0m\u001b[0;34m\u001b[0m\u001b[0m\n\u001b[0;32m--> 125\u001b[0;31m     \u001b[0mnbrs\u001b[0m \u001b[0;34m=\u001b[0m \u001b[0mNearestNeighbors\u001b[0m\u001b[0;34m(\u001b[0m\u001b[0mn_neighbors\u001b[0m\u001b[0;34m=\u001b[0m\u001b[0;36m1\u001b[0m\u001b[0;34m,\u001b[0m \u001b[0malgorithm\u001b[0m\u001b[0;34m=\u001b[0m\u001b[0;34m'ball_tree'\u001b[0m\u001b[0;34m)\u001b[0m\u001b[0;34m.\u001b[0m\u001b[0mfit\u001b[0m\u001b[0;34m(\u001b[0m\u001b[0mX\u001b[0m\u001b[0;34m)\u001b[0m\u001b[0;34m\u001b[0m\u001b[0;34m\u001b[0m\u001b[0m\n\u001b[0m\u001b[1;32m    126\u001b[0m     \u001b[0mdistances\u001b[0m\u001b[0;34m,\u001b[0m \u001b[0mindices\u001b[0m \u001b[0;34m=\u001b[0m \u001b[0mnbrs\u001b[0m\u001b[0;34m.\u001b[0m\u001b[0mkneighbors\u001b[0m\u001b[0;34m(\u001b[0m\u001b[0mY\u001b[0m\u001b[0;34m)\u001b[0m\u001b[0;34m\u001b[0m\u001b[0;34m\u001b[0m\u001b[0m\n\u001b[1;32m    127\u001b[0m     \u001b[0;32mreturn\u001b[0m \u001b[0mdistances\u001b[0m\u001b[0;34m,\u001b[0m \u001b[0mindices\u001b[0m\u001b[0;34m\u001b[0m\u001b[0;34m\u001b[0m\u001b[0m\n",
      "\u001b[0;32m~/anaconda3/lib/python3.6/site-packages/sklearn/neighbors/base.py\u001b[0m in \u001b[0;36mfit\u001b[0;34m(self, X, y)\u001b[0m\n\u001b[1;32m    928\u001b[0m             \u001b[0;32mor\u001b[0m \u001b[0;34m[\u001b[0m\u001b[0mn_samples\u001b[0m\u001b[0;34m,\u001b[0m \u001b[0mn_samples\u001b[0m\u001b[0;34m]\u001b[0m \u001b[0;32mif\u001b[0m \u001b[0mmetric\u001b[0m\u001b[0;34m=\u001b[0m\u001b[0;34m'precomputed'\u001b[0m\u001b[0;34m.\u001b[0m\u001b[0;34m\u001b[0m\u001b[0;34m\u001b[0m\u001b[0m\n\u001b[1;32m    929\u001b[0m         \"\"\"\n\u001b[0;32m--> 930\u001b[0;31m         \u001b[0;32mreturn\u001b[0m \u001b[0mself\u001b[0m\u001b[0;34m.\u001b[0m\u001b[0m_fit\u001b[0m\u001b[0;34m(\u001b[0m\u001b[0mX\u001b[0m\u001b[0;34m)\u001b[0m\u001b[0;34m\u001b[0m\u001b[0;34m\u001b[0m\u001b[0m\n\u001b[0m",
      "\u001b[0;32m~/anaconda3/lib/python3.6/site-packages/sklearn/neighbors/base.py\u001b[0m in \u001b[0;36m_fit\u001b[0;34m(self, X)\u001b[0m\n\u001b[1;32m    206\u001b[0m             \u001b[0;32mreturn\u001b[0m \u001b[0mself\u001b[0m\u001b[0;34m\u001b[0m\u001b[0;34m\u001b[0m\u001b[0m\n\u001b[1;32m    207\u001b[0m \u001b[0;34m\u001b[0m\u001b[0m\n\u001b[0;32m--> 208\u001b[0;31m         \u001b[0mX\u001b[0m \u001b[0;34m=\u001b[0m \u001b[0mcheck_array\u001b[0m\u001b[0;34m(\u001b[0m\u001b[0mX\u001b[0m\u001b[0;34m,\u001b[0m \u001b[0maccept_sparse\u001b[0m\u001b[0;34m=\u001b[0m\u001b[0;34m'csr'\u001b[0m\u001b[0;34m)\u001b[0m\u001b[0;34m\u001b[0m\u001b[0;34m\u001b[0m\u001b[0m\n\u001b[0m\u001b[1;32m    209\u001b[0m \u001b[0;34m\u001b[0m\u001b[0m\n\u001b[1;32m    210\u001b[0m         \u001b[0mn_samples\u001b[0m \u001b[0;34m=\u001b[0m \u001b[0mX\u001b[0m\u001b[0;34m.\u001b[0m\u001b[0mshape\u001b[0m\u001b[0;34m[\u001b[0m\u001b[0;36m0\u001b[0m\u001b[0;34m]\u001b[0m\u001b[0;34m\u001b[0m\u001b[0;34m\u001b[0m\u001b[0m\n",
      "\u001b[0;32m~/anaconda3/lib/python3.6/site-packages/sklearn/utils/validation.py\u001b[0m in \u001b[0;36mcheck_array\u001b[0;34m(array, accept_sparse, accept_large_sparse, dtype, order, copy, force_all_finite, ensure_2d, allow_nd, ensure_min_samples, ensure_min_features, warn_on_dtype, estimator)\u001b[0m\n\u001b[1;32m    537\u001b[0m         \u001b[0;32mif\u001b[0m \u001b[0;32mnot\u001b[0m \u001b[0mallow_nd\u001b[0m \u001b[0;32mand\u001b[0m \u001b[0marray\u001b[0m\u001b[0;34m.\u001b[0m\u001b[0mndim\u001b[0m \u001b[0;34m>=\u001b[0m \u001b[0;36m3\u001b[0m\u001b[0;34m:\u001b[0m\u001b[0;34m\u001b[0m\u001b[0;34m\u001b[0m\u001b[0m\n\u001b[1;32m    538\u001b[0m             raise ValueError(\"Found array with dim %d. %s expected <= 2.\"\n\u001b[0;32m--> 539\u001b[0;31m                              % (array.ndim, estimator_name))\n\u001b[0m\u001b[1;32m    540\u001b[0m         \u001b[0;32mif\u001b[0m \u001b[0mforce_all_finite\u001b[0m\u001b[0;34m:\u001b[0m\u001b[0;34m\u001b[0m\u001b[0;34m\u001b[0m\u001b[0m\n\u001b[1;32m    541\u001b[0m             _assert_all_finite(array,\n",
      "\u001b[0;31mValueError\u001b[0m: Found array with dim 3. Estimator expected <= 2."
     ]
    }
   ],
   "source": [
    "ensemble_results = get_PCALDA_accuracy(416, 416, random=True)"
   ]
  },
  {
   "cell_type": "code",
   "execution_count": null,
   "metadata": {},
   "outputs": [],
   "source": []
  }
 ],
 "metadata": {
  "kernelspec": {
   "display_name": "Python 3",
   "language": "python",
   "name": "python3"
  },
  "language_info": {
   "codemirror_mode": {
    "name": "ipython",
    "version": 3
   },
   "file_extension": ".py",
   "mimetype": "text/x-python",
   "name": "python",
   "nbconvert_exporter": "python",
   "pygments_lexer": "ipython3",
   "version": "3.7.0"
  }
 },
 "nbformat": 4,
 "nbformat_minor": 2
}
