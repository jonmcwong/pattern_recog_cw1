{
 "cells": [
  {
   "cell_type": "code",
   "execution_count": 1,
   "metadata": {},
   "outputs": [],
   "source": [
    "# imports\n",
    "import scipy.io\n",
    "import numpy as np               # for arrays\n",
    "from numpy import linalg as LA   # for eigenvalues\n",
    "import matplotlib                # for plots\n",
    "import time                      # for time measurements\n",
    "from PIL import Image            # for showing images\n",
    "import matplotlib.pyplot as plt\n",
    "from sklearn import preprocessing\n",
    "import sympy"
   ]
  },
  {
   "cell_type": "code",
   "execution_count": 10,
   "metadata": {},
   "outputs": [],
   "source": [
    "def show_img(img):\n",
    "    temp = img.copy()\n",
    "    temp.resize((46,56))\n",
    "    im = Image.fromarray(temp.T)\n",
    "    im.show()"
   ]
  },
  {
   "cell_type": "markdown",
   "metadata": {},
   "source": [
    "Get training/test splits"
   ]
  },
  {
   "cell_type": "code",
   "execution_count": 7,
   "metadata": {},
   "outputs": [
    {
     "name": "stdout",
     "output_type": "stream",
     "text": [
      "D:  2576\n",
      "N:  520\n"
     ]
    }
   ],
   "source": [
    "# load data\n",
    "mat = scipy.io.loadmat('face.mat')\n",
    "raw_data = mat['X']\n",
    "\n",
    "raw_data = np.transpose(raw_data)\n",
    "N,D = raw_data.shape\n",
    "print(\"D: \", D)\n",
    "print(\"N: \", N)\n",
    "train_size = int(N * 0.8)\n",
    "test_size = int(N * 0.2)\n",
    "\n",
    "pca_training_data = np.empty([int(520*0.8), 2576])\n",
    "pca_testing_data = np.empty([int(520*0.2), 2576])\n",
    "lda_training_data = []\n",
    "lda_testing_data = []\n",
    "\n",
    "# create training and test data\n",
    "for x in range(52):\n",
    "    # 8/2 ratio for training and testing datasets\n",
    "    lda_training_data.append(raw_data[x*10:x*10+8].copy())\n",
    "    lda_testing_data.append(raw_data[x*10+8:(x+1)*10].copy())\n",
    "    \n",
    "\n",
    "lda_training_data = np.array(lda_training_data)\n",
    "lda_testing_data = np.array(lda_testing_data)\n",
    "pca_training_data = lda_training_data.reshape(train_size, D)\n",
    "pca_testing_data = lda_testing_data.reshape(test_size,D)\n"
   ]
  },
  {
   "cell_type": "code",
   "execution_count": 12,
   "metadata": {},
   "outputs": [
    {
     "name": "stdout",
     "output_type": "stream",
     "text": [
      "(52, 8, 2576)\n"
     ]
    }
   ],
   "source": [
    "print(lda_training_data.shape)"
   ]
  },
  {
   "cell_type": "code",
   "execution_count": null,
   "metadata": {},
   "outputs": [],
   "source": [
    "# accepts list of data points \n",
    "def get_mean(data):\n",
    "    # return average of data points\n",
    "    return training_data.mean(axis=1).reshape(-1,1)"
   ]
  },
  {
   "cell_type": "markdown",
   "metadata": {},
   "source": [
    "We need to make sure that the generalised eigenvalue problem that we encounter when doing LDA is solvable by making sure that the within-class scatter matrix is non-singular.\n",
    "We do this by first reducing the dimension of the data via PCA to an M <= N - c."
   ]
  },
  {
   "cell_type": "code",
   "execution_count": null,
   "metadata": {},
   "outputs": [],
   "source": [
    "def get_Wpca(data):\n",
    "    # copy in PCA code that gives the matrix of principal components\n",
    "    \n",
    "    "
   ]
  },
  {
   "cell_type": "markdown",
   "metadata": {},
   "source": [
    "We want a projection that maximises the ratio between the between-class scatter matrix and the within class scatter matrix.\n",
    "The projection W turns out to be the solutions to the generalised eigen value problem. (Found via solving the langrangian. Slide 10-11)"
   ]
  },
  {
   "cell_type": "code",
   "execution_count": null,
   "metadata": {},
   "outputs": [],
   "source": [
    "Wpca = get_Wpca(training_data)\n",
    "mean_all_data = get_mean(pca_training_data)\n",
    "\n",
    "# within class scatter (scalar)\n",
    "Sw = \n",
    "# between class scatter (scalar)\n",
    "Sb = \n",
    "\n",
    "lda_evals, lda_evecs = LA.eig(np.dot(LA.inv(Sw),Sb))\n"
   ]
  }
 ],
 "metadata": {
  "kernelspec": {
   "display_name": "Python 3",
   "language": "python",
   "name": "python3"
  },
  "language_info": {
   "codemirror_mode": {
    "name": "ipython",
    "version": 3
   },
   "file_extension": ".py",
   "mimetype": "text/x-python",
   "name": "python",
   "nbconvert_exporter": "python",
   "pygments_lexer": "ipython3",
   "version": "3.6.9"
  }
 },
 "nbformat": 4,
 "nbformat_minor": 2
}
