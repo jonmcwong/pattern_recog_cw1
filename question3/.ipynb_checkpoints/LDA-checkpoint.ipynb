{
 "cells": [
  {
   "cell_type": "code",
   "execution_count": 1,
   "metadata": {},
   "outputs": [],
   "source": [
    "# imports\n",
    "import scipy.io\n",
    "import numpy as np               # for arrays\n",
    "from numpy import linalg as LA   # for eigenvalues\n",
    "import matplotlib                # for plots\n",
    "import time                      # for time measurements\n",
    "from PIL import Image            # for showing images\n",
    "import matplotlib.pyplot as plt\n",
    "from sklearn import preprocessing\n",
    "import sympy"
   ]
  },
  {
   "cell_type": "code",
   "execution_count": 2,
   "metadata": {},
   "outputs": [],
   "source": [
    "def show_img(img):\n",
    "    temp = img.copy()\n",
    "    temp.resize((46,56))\n",
    "    im = Image.fromarray(temp.T)\n",
    "    im.show()"
   ]
  },
  {
   "cell_type": "markdown",
   "metadata": {},
   "source": [
    "Get training/test splits"
   ]
  },
  {
   "cell_type": "code",
   "execution_count": 3,
   "metadata": {},
   "outputs": [],
   "source": [
    "# load data\n",
    "mat = scipy.io.loadmat('face.mat')\n",
    "raw_data = mat['X']\n",
    "\n",
    "raw_data = np.transpose(raw_data)\n",
    "N,D = raw_data.shape\n",
    "C = 52 # number of classes in dataset\n",
    "train_size = int(N * 0.8)\n",
    "test_size = int(N * 0.2)\n",
    "\n",
    "pca_training_data = np.empty([int(520*0.8), 2576])\n",
    "pca_testing_data = np.empty([int(520*0.2), 2576])\n",
    "lda_training_data = []\n",
    "lda_testing_data = []\n",
    "\n",
    "# create training and test data\n",
    "for x in range(52):\n",
    "    # 8/2 ratio for training and testing datasets\n",
    "    lda_training_data.append(raw_data[x*10:x*10+8].copy())\n",
    "    lda_testing_data.append(raw_data[x*10+8:(x+1)*10].copy())\n",
    "    \n",
    "\n",
    "lda_training_data = np.array(lda_training_data)\n",
    "lda_testing_data = np.array(lda_testing_data)\n",
    "pca_training_data = lda_training_data.reshape(train_size, D)\n",
    "pca_testing_data = lda_testing_data.reshape(test_size,D)\n"
   ]
  },
  {
   "cell_type": "code",
   "execution_count": 4,
   "metadata": {},
   "outputs": [
    {
     "name": "stdout",
     "output_type": "stream",
     "text": [
      "(416, 2576)\n"
     ]
    }
   ],
   "source": [
    "print(pca_training_data.shape)"
   ]
  },
  {
   "cell_type": "markdown",
   "metadata": {},
   "source": [
    "We need to make sure that the generalised eigenvalue problem that we encounter when doing LDA is solvable by making sure that the within-class scatter matrix is non-singular.\n",
    "We do this by first reducing the dimension of the data via low dim PCA to an M <= N - c."
   ]
  },
  {
   "cell_type": "code",
   "execution_count": 34,
   "metadata": {},
   "outputs": [],
   "source": [
    "def get_Wpca(data, out_dim):\n",
    "    # low-dim PCA\n",
    "    S = data.dot(data.T)\n",
    "    w, v = LA.eig(S)\n",
    "    u = data.T.dot(v)\n",
    "    u /= LA.norm(u,ord=2,axis=0)\n",
    "    u = u.T\n",
    "    id = np.argsort(np.abs(w))[::-1]\n",
    "    w = w[id]\n",
    "    u = u[id]\n",
    "\n",
    "    return u[0:out_dim].T\n",
    "    "
   ]
  },
  {
   "cell_type": "markdown",
   "metadata": {},
   "source": [
    "We want a projection that maximises the ratio between the between-class scatter matrix and the within class scatter matrix.\n",
    "The projection W turns out to be the solutions to the generalised eigen value problem. (Found via solving the langrangian. Slide 10-11)"
   ]
  },
  {
   "cell_type": "code",
   "execution_count": 6,
   "metadata": {},
   "outputs": [],
   "source": [
    "def get_Wlda(Sb_data, Sw_data):\n",
    "    #code that gets value\n",
    "    lda_evals, lda_evecs = LA.eig(LA.inv(Sw_data).dot(Sb_data))\n",
    "    return lda_evecs"
   ]
  },
  {
   "cell_type": "code",
   "execution_count": 15,
   "metadata": {},
   "outputs": [
    {
     "name": "stdout",
     "output_type": "stream",
     "text": [
      "(52, 2576)\n"
     ]
    }
   ],
   "source": [
    "mean_all_data = pca_training_data.T.mean(axis=1).T\n",
    "\n",
    "# between class scatter (scalar)\n",
    "mean_class_data = lda_training_data.mean(axis=1)\n",
    "diff_class_mean = mean_class_data - mean_all_data\n",
    "print(mean_class_data.shape)\n",
    "\n",
    "Sb = np.dot(diff_class_mean.T, diff_class_mean)\n",
    "\n",
    "# within class scatter (scalar)\n",
    "diff_class_data = lda_training_data - mean_class_data.reshape(52,1,-1)\n"
   ]
  },
  {
   "cell_type": "code",
   "execution_count": 16,
   "metadata": {},
   "outputs": [
    {
     "name": "stdout",
     "output_type": "stream",
     "text": [
      "(52, 8, 2576)\n"
     ]
    }
   ],
   "source": [
    "print(diff_class_data.shape)\n"
   ]
  },
  {
   "cell_type": "code",
   "execution_count": 31,
   "metadata": {},
   "outputs": [
    {
     "name": "stdout",
     "output_type": "stream",
     "text": [
      "(416, 2576)\n",
      "1.0000000000000002\n",
      "416\n"
     ]
    }
   ],
   "source": [
    "Sw = np.zeros((2576, 2576));\n",
    "for x in diff_class_data:\n",
    "    Sw += np.dot(x.T,x)\n",
    "\n",
    "St = Sb + Sw\n",
    "Wpca = get_Wpca(pca_training_data, -1)\n",
    "reduced_Sb = Wpca.T.dot(Sb).dot(Wpca)\n",
    "reduced_Sw = Wpca.T.dot(Sw).dot(Wpca)\n",
    "Wlda = get_Wlda(reduced_Sb, reduced_Sw)\n",
    "\n",
    "Wopt = Wlda.T.dot(Wpca.T)"
   ]
  },
  {
   "cell_type": "code",
   "execution_count": 35,
   "metadata": {},
   "outputs": [
    {
     "name": "stdout",
     "output_type": "stream",
     "text": [
      "[[ 1.67682201e+08 -2.31842406e+07  7.61048119e+06 ... -7.88422965e+07\n",
      "  -4.80474464e+07 -9.39422913e+07]\n",
      " [-2.31842406e+07  9.37111266e+07 -4.05044952e+07 ...  4.22688546e+07\n",
      "  -1.50252789e+07 -1.27530266e+07]\n",
      " [ 7.61048119e+06 -4.05044952e+07  4.33511832e+07 ... -3.12789450e+07\n",
      "   1.28109770e+07  6.30083241e+06]\n",
      " ...\n",
      " [-7.88422965e+07  4.22688546e+07 -3.12789450e+07 ...  8.59414168e+07\n",
      "   9.08971028e+06  4.08201001e+07]\n",
      " [-4.80474464e+07 -1.50252789e+07  1.28109770e+07 ...  9.08971028e+06\n",
      "   3.53326375e+07  3.39553206e+07]\n",
      " [-9.39422913e+07 -1.27530266e+07  6.30083241e+06 ...  4.08201001e+07\n",
      "   3.39553206e+07  7.06597261e+07]]\n"
     ]
    }
   ],
   "source": [
    "print(reduced_Sw)\n"
   ]
  },
  {
   "cell_type": "code",
   "execution_count": null,
   "metadata": {},
   "outputs": [],
   "source": [
    "# quick test to see if training data can be reconstructed correctly\n",
    "training_weights = pca_training_data.dot(Wopt.T)"
   ]
  },
  {
   "cell_type": "markdown",
   "metadata": {},
   "source": [
    "We can now express each data point as product of a weight vector with Wopt. This weight vector can be used to classify each data point using nearest neighbour"
   ]
  },
  {
   "cell_type": "code",
   "execution_count": null,
   "metadata": {},
   "outputs": [],
   "source": [
    "print(training_weights.shape)"
   ]
  },
  {
   "cell_type": "code",
   "execution_count": null,
   "metadata": {},
   "outputs": [],
   "source": [
    "correct = True\n",
    "for idx,x in enumerate(training_weights):\n",
    "    reconstructed_face = Wopt.T.dot(x)\n",
    "    show_img(reconstructed_face)\n",
    "    "
   ]
  },
  {
   "cell_type": "code",
   "execution_count": null,
   "metadata": {},
   "outputs": [],
   "source": []
  }
 ],
 "metadata": {
  "kernelspec": {
   "display_name": "Python 3",
   "language": "python",
   "name": "python3"
  },
  "language_info": {
   "codemirror_mode": {
    "name": "ipython",
    "version": 3
   },
   "file_extension": ".py",
   "mimetype": "text/x-python",
   "name": "python",
   "nbconvert_exporter": "python",
   "pygments_lexer": "ipython3",
   "version": "3.7.3"
  }
 },
 "nbformat": 4,
 "nbformat_minor": 2
}
