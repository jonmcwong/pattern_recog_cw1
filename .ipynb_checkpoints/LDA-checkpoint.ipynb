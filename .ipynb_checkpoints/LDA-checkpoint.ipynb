{
 "cells": [
  {
   "cell_type": "code",
   "execution_count": 1,
   "metadata": {},
   "outputs": [],
   "source": [
    "# imports\n",
    "import scipy.io\n",
    "import numpy as np               # for arrays\n",
    "from numpy import linalg as LA   # for eigenvalues\n",
    "import matplotlib                # for plots\n",
    "import time                      # for time measurements\n",
    "from PIL import Image            # for showing images\n",
    "import matplotlib.pyplot as plt\n",
    "from sklearn import preprocessing\n",
    "import sympy\n",
    "from functions import *"
   ]
  },
  {
   "cell_type": "code",
   "execution_count": 2,
   "metadata": {},
   "outputs": [],
   "source": [
    "def show_img(img):\n",
    "    temp = img.copy()\n",
    "    temp.resize((46,56))\n",
    "    im = Image.fromarray(temp.T)\n",
    "    im.show()"
   ]
  },
  {
   "cell_type": "markdown",
   "metadata": {},
   "source": [
    "Get training/test splits"
   ]
  },
  {
   "cell_type": "code",
   "execution_count": 3,
   "metadata": {},
   "outputs": [],
   "source": [
    "# load data\n",
    "mat = scipy.io.loadmat('face.mat')\n",
    "raw_data = mat['X']\n",
    "\n",
    "raw_data = np.transpose(raw_data)\n",
    "N,D = raw_data.shape\n",
    "C = 52 # number of classes in dataset\n",
    "train_size = int(N * 0.8)\n",
    "test_size = int(N * 0.2)\n",
    "\n",
    "pca_training_data = np.empty([int(520*0.8), 2576])\n",
    "pca_testing_data = np.empty([int(520*0.2), 2576])\n",
    "lda_training_data = []\n",
    "lda_testing_data = []\n",
    "\n",
    "# create training and test data\n",
    "for x in range(52):\n",
    "    # 8/2 ratio for training and testing datasets\n",
    "    lda_training_data.append(raw_data[x*10:x*10+8].copy())\n",
    "    lda_testing_data.append(raw_data[x*10+8:(x+1)*10].copy())\n",
    "    \n",
    "\n",
    "lda_training_data = np.array(lda_training_data)\n",
    "lda_testing_data = np.array(lda_testing_data)\n",
    "pca_training_data = lda_training_data.reshape(train_size, D)\n",
    "pca_testing_data = lda_testing_data.reshape(test_size,D)\n"
   ]
  },
  {
   "cell_type": "code",
   "execution_count": 4,
   "metadata": {},
   "outputs": [],
   "source": [
    "show_img(pca_training_data[10])"
   ]
  },
  {
   "cell_type": "markdown",
   "metadata": {},
   "source": [
    "We need to make sure that the generalised eigenvalue problem that we encounter when doing LDA is solvable by making sure that the within-class scatter matrix is non-singular.\n",
    "We do this by first reducing the dimension of the data via low dim PCA to an M <= N - c."
   ]
  },
  {
   "cell_type": "code",
   "execution_count": 5,
   "metadata": {},
   "outputs": [],
   "source": [
    "def get_Wpca(data, out_dim):\n",
    "    # low-dim PCA\n",
    "    S = data.dot(data.T)\n",
    "    w, v = LA.eigh(S)\n",
    "    u = data.T.dot(v)\n",
    "    u = u.T # the eigenvectors aren't normalised after this\n",
    "    u /= LA.norm(u, ord=2, axis=0)\n",
    "    \n",
    "    # sort wrt abs(eigenvalue)\n",
    "    id = np.argsort(np.abs(w))[::-1]\n",
    "    w = w[id]\n",
    "    u = u[id]\n",
    "    print(\"shape of u lol:\", u.shape)\n",
    "    return u[0:out_dim].T\n",
    "    "
   ]
  },
  {
   "cell_type": "markdown",
   "metadata": {},
   "source": [
    "We want a projection that maximises the ratio between the between-class scatter matrix and the within class scatter matrix.\n",
    "The projection W turns out to be the solutions to the generalised eigen value problem. (Found via solving the langrangian. Slide 10-11)"
   ]
  },
  {
   "cell_type": "code",
   "execution_count": 6,
   "metadata": {},
   "outputs": [],
   "source": [
    "def get_Wlda(Sb_data, Sw_data, out_dim):\n",
    "    #code that gets value\n",
    "    lda_evals, lda_evecs = LA.eig(LA.inv(Sw_data).dot(Sb_data))\n",
    "    # print(\"magnitud of eigenvecs: \", LA.norm(lda_evecs.T[0], ord=2, axis=0))\n",
    "    lda_evecs = lda_evecs.T\n",
    "#     print(\"lda_evals: \", lda_evals)\n",
    "    \n",
    "    # sort wrt abs(eigenvalue)\n",
    "    id = np.argsort(np.abs(lda_evals))[::-1]\n",
    "    lda_evals = lda_evals[id]\n",
    "    lda_evecs = lda_evecs[id]\n",
    "    print(lda_evecs.shape)\n",
    "    return lda_evecs[0:out_dim].T"
   ]
  },
  {
   "cell_type": "code",
   "execution_count": 7,
   "metadata": {},
   "outputs": [
    {
     "name": "stdout",
     "output_type": "stream",
     "text": [
      "(52, 2576)\n",
      "(52, 8, 2576)\n"
     ]
    }
   ],
   "source": [
    "mean_all_data = pca_training_data.T.mean(axis=1).T\n",
    "\n",
    "# between class scatter (scalar)\n",
    "mean_class_data = lda_training_data.mean(axis=1)\n",
    "diff_class_mean = mean_class_data - mean_all_data\n",
    "print(mean_class_data.shape)\n",
    "print(lda_training_data.shape)\n",
    "Sb = np.dot(diff_class_mean.T, diff_class_mean)\n",
    "Sb *= np.array([8])\n",
    "\n",
    "# within class scatter (scalar)\n",
    "diff_class_data = lda_training_data - mean_class_data.reshape(52,1,-1)\n"
   ]
  },
  {
   "cell_type": "code",
   "execution_count": null,
   "metadata": {},
   "outputs": [],
   "source": [
    "Sw = np.zeros((2576, 2576));\n",
    "for x in diff_class_data:\n",
    "    Sw += np.dot(x.T,x)\n",
    "\n",
    "Mpca = 40\n",
    "Mlda = 416\n",
    "Wpca = get_Wpca(pca_training_data, Mpca)\n",
    "print(LA.norm(Wpca[0], ord=2, axis=0))\n",
    "reduced_Sb = Wpca.T.dot(Sb).dot(Wpca) # symmetric matrix hopefully\n",
    "reduced_Sw = Wpca.T.dot(Sw).dot(Wpca)\n",
    "print(\"Check symmetry: \", reduced_Sw - reduced_Sw.T)\n",
    "Wlda = get_Wlda(reduced_Sb, reduced_Sw, Mlda)\n",
    "\n",
    "Wopt = Wlda.T.dot(Wpca.T).T\n",
    "Wopt /= LA.norm(Wopt, ord=2, axis=1, keepdims=True)\n",
    "# print(\"Wopt: \", Wopt.shape, \" Wlda.T: \", Wlda.T.shape, \" Wpca.T \", Wpca.T.shape)"
   ]
  },
  {
   "cell_type": "code",
   "execution_count": null,
   "metadata": {},
   "outputs": [],
   "source": [
    "print(Wopt)"
   ]
  },
  {
   "cell_type": "markdown",
   "metadata": {},
   "source": [
    "We can now express each data point as product of a weight vector with Wopt. This weight vector can be used to classify each data point using nearest neighbour"
   ]
  },
  {
   "cell_type": "code",
   "execution_count": null,
   "metadata": {},
   "outputs": [],
   "source": [
    "training_face_weights = Wopt.T.dot(pca_training_data.T)\n",
    "testing_face_weights = Wopt.T.dot(pca_testing_data.T)\n",
    "\n",
    "print(training_face_weights.T)\n",
    "print(testing_face_weights.T)"
   ]
  },
  {
   "cell_type": "code",
   "execution_count": 31,
   "metadata": {},
   "outputs": [
    {
     "name": "stdout",
     "output_type": "stream",
     "text": [
      "classification rate:  69.23076923076923 %.\n"
     ]
    }
   ],
   "source": [
    "result = class_rate(training_face_weights.real, testing_face_weights.T.real)\n",
    "print(\"classification rate: \", 100*np.sum(result)/len(result), \"%.\")"
   ]
  }
 ],
 "metadata": {
  "kernelspec": {
   "display_name": "Python 3",
   "language": "python",
   "name": "python3"
  },
  "language_info": {
   "codemirror_mode": {
    "name": "ipython",
    "version": 3
   },
   "file_extension": ".py",
   "mimetype": "text/x-python",
   "name": "python",
   "nbconvert_exporter": "python",
   "pygments_lexer": "ipython3",
   "version": "3.7.0"
  }
 },
 "nbformat": 4,
 "nbformat_minor": 2
}
