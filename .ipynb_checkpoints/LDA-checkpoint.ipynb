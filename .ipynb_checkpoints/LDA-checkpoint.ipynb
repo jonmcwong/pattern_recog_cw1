{
 "cells": [
  {
   "cell_type": "code",
   "execution_count": 1,
   "metadata": {},
   "outputs": [],
   "source": [
    "# imports\n",
    "import scipy.io\n",
    "import numpy as np               # for arrays\n",
    "from numpy import linalg as LA   # for eigenvalues\n",
    "import matplotlib                # for plots\n",
    "import time                      # for time measurements\n",
    "from PIL import Image            # for showing images\n",
    "import matplotlib.pyplot as plt\n",
    "from sklearn import preprocessing\n",
    "import sympy\n",
    "from functions import *"
   ]
  },
  {
   "cell_type": "code",
   "execution_count": 2,
   "metadata": {},
   "outputs": [],
   "source": [
    "def show_img(img):\n",
    "    temp = img.copy()\n",
    "    temp.resize((46,56))\n",
    "    im = Image.fromarray(temp.T)\n",
    "    im.show()"
   ]
  },
  {
   "cell_type": "markdown",
   "metadata": {},
   "source": [
    "Get training/test splits"
   ]
  },
  {
   "cell_type": "code",
   "execution_count": 3,
   "metadata": {},
   "outputs": [],
   "source": [
    "# load data\n",
    "mat = scipy.io.loadmat('face.mat')\n",
    "raw_data = mat['X']\n",
    "\n",
    "raw_data = np.transpose(raw_data)\n",
    "N,D = raw_data.shape\n",
    "C = 52 # number of classes in dataset\n",
    "train_size = int(N * 0.8)\n",
    "test_size = int(N * 0.2)\n",
    "\n",
    "pca_training_data = np.empty([int(520*0.8), 2576])\n",
    "pca_testing_data = np.empty([int(520*0.2), 2576])\n",
    "lda_training_data = []\n",
    "lda_testing_data = []\n",
    "\n",
    "# create training and test data\n",
    "for x in range(52):\n",
    "    # 8/2 ratio for training and testing datasets\n",
    "    lda_training_data.append(raw_data[x*10:x*10+8].copy())\n",
    "    lda_testing_data.append(raw_data[x*10+8:(x+1)*10].copy())\n",
    "    \n",
    "\n",
    "lda_training_data = np.array(lda_training_data)\n",
    "lda_testing_data = np.array(lda_testing_data)\n",
    "pca_training_data = lda_training_data.reshape(train_size, D)\n",
    "pca_testing_data = lda_testing_data.reshape(test_size,D)\n"
   ]
  },
  {
   "cell_type": "code",
   "execution_count": 4,
   "metadata": {},
   "outputs": [],
   "source": [
    "show_img(pca_training_data[10])"
   ]
  },
  {
   "cell_type": "markdown",
   "metadata": {},
   "source": [
    "We need to make sure that the generalised eigenvalue problem that we encounter when doing LDA is solvable by making sure that the within-class scatter matrix is non-singular.\n",
    "We do this by first reducing the dimension of the data via low dim PCA to an M <= N - c."
   ]
  },
  {
   "cell_type": "code",
   "execution_count": 5,
   "metadata": {},
   "outputs": [],
   "source": [
    "def get_Wpca(data, out_dim):\n",
    "    # low-dim PCA\n",
    "    S = data.dot(data.T)\n",
    "    w, v = LA.eigh(S)\n",
    "    u = data.T.dot(v)\n",
    "    u = u.T # the eigenvectors aren't normalised after this\n",
    "    u /= LA.norm(u, ord=2, axis=0)\n",
    "    \n",
    "    # sort wrt abs(eigenvalue)\n",
    "    id = np.argsort(np.abs(w))[::-1]\n",
    "    w = w[id]\n",
    "    u = u[id]\n",
    "    print(\"shape of u lol:\", u.shape)\n",
    "    return u[0:out_dim].T\n",
    "    "
   ]
  },
  {
   "cell_type": "markdown",
   "metadata": {},
   "source": [
    "We want a projection that maximises the ratio between the between-class scatter matrix and the within class scatter matrix.\n",
    "The projection W turns out to be the solutions to the generalised eigen value problem. (Found via solving the langrangian. Slide 10-11)"
   ]
  },
  {
   "cell_type": "code",
   "execution_count": 6,
   "metadata": {},
   "outputs": [],
   "source": [
    "def get_Wlda(Sb_data, Sw_data, out_dim):\n",
    "    #code that gets value\n",
    "    lda_evals, lda_evecs = LA.eig(LA.inv(Sw_data).dot(Sb_data))\n",
    "    # print(\"magnitud of eigenvecs: \", LA.norm(lda_evecs.T[0], ord=2, axis=0))\n",
    "    lda_evecs = lda_evecs.T\n",
    "#     print(\"lda_evals: \", lda_evals)\n",
    "    \n",
    "    # sort wrt abs(eigenvalue)\n",
    "    id = np.argsort(np.abs(lda_evals))[::-1]\n",
    "    lda_evals = lda_evals[id]\n",
    "    lda_evecs = lda_evecs[id]\n",
    "    print(lda_evecs.shape)\n",
    "    return lda_evecs[0:out_dim].T"
   ]
  },
  {
   "cell_type": "code",
   "execution_count": 7,
   "metadata": {},
   "outputs": [
    {
     "name": "stdout",
     "output_type": "stream",
     "text": [
      "(52, 2576)\n",
      "(52, 8, 2576)\n"
     ]
    }
   ],
   "source": [
    "mean_all_data = pca_training_data.T.mean(axis=1).T\n",
    "\n",
    "# between class scatter (scalar)\n",
    "mean_class_data = lda_training_data.mean(axis=1)\n",
    "diff_class_mean = mean_class_data - mean_all_data\n",
    "print(mean_class_data.shape)\n",
    "print(lda_training_data.shape)\n",
    "Sb = np.dot(diff_class_mean.T, diff_class_mean)\n",
    "Sb *= np.array([8])\n",
    "\n",
    "# within class scatter (scalar)\n",
    "diff_class_data = lda_training_data - mean_class_data.reshape(52,1,-1)\n"
   ]
  },
  {
   "cell_type": "code",
   "execution_count": 12,
   "metadata": {},
   "outputs": [
    {
     "name": "stdout",
     "output_type": "stream",
     "text": [
      "shape of u lol: (416, 2576)\n",
      "0.9405628778232026\n",
      "Check symmetry:  [[ 0.00000000e+00  4.47034836e-07  1.19209290e-07 ...  0.00000000e+00\n",
      "   0.00000000e+00  4.76837158e-07]\n",
      " [-4.47034836e-07  0.00000000e+00  0.00000000e+00 ... -7.45058060e-09\n",
      "   0.00000000e+00 -7.45058060e-09]\n",
      " [-1.19209290e-07  0.00000000e+00  0.00000000e+00 ...  2.79396772e-08\n",
      "  -1.86264515e-08 -3.72529030e-09]\n",
      " ...\n",
      " [ 0.00000000e+00  7.45058060e-09 -2.79396772e-08 ...  0.00000000e+00\n",
      "   0.00000000e+00 -1.86264515e-09]\n",
      " [ 0.00000000e+00  0.00000000e+00  1.86264515e-08 ...  0.00000000e+00\n",
      "   0.00000000e+00 -1.86264515e-09]\n",
      " [-4.76837158e-07  7.45058060e-09  3.72529030e-09 ...  1.86264515e-09\n",
      "   1.86264515e-09  0.00000000e+00]]\n",
      "(50, 50)\n"
     ]
    }
   ],
   "source": [
    "Sw = np.zeros((2576, 2576));\n",
    "for x in diff_class_data:\n",
    "    Sw += np.dot(x.T,x)\n",
    "\n",
    "Mpca = 50\n",
    "Mlda = 416\n",
    "Wpca = get_Wpca(pca_training_data, Mpca)\n",
    "print(LA.norm(Wpca[0], ord=2, axis=0))\n",
    "reduced_Sb = Wpca.T.dot(Sb).dot(Wpca) # symmetric matrix hopefully\n",
    "reduced_Sw = Wpca.T.dot(Sw).dot(Wpca)\n",
    "print(\"Check symmetry: \", reduced_Sw - reduced_Sw.T)\n",
    "Wlda = get_Wlda(reduced_Sb, reduced_Sw, Mlda)\n",
    "\n",
    "Wopt = Wlda.T.dot(Wpca.T).T\n",
    "Wopt /= LA.norm(Wopt, ord=2, axis=1, keepdims=True)\n",
    "# print(\"Wopt: \", Wopt.shape, \" Wlda.T: \", Wlda.T.shape, \" Wpca.T \", Wpca.T.shape)"
   ]
  },
  {
   "cell_type": "code",
   "execution_count": 13,
   "metadata": {},
   "outputs": [
    {
     "name": "stdout",
     "output_type": "stream",
     "text": [
      "[[ 1.63053222e-04 -6.49532185e-03 -1.72800444e-01 ...  1.13643561e-01\n",
      "   8.38212093e-02 -3.10425136e-01]\n",
      " [-1.12522789e-01 -6.18453204e-02  8.35519378e-03 ...  1.08548425e-01\n",
      "   2.35824501e-02 -2.08385547e-01]\n",
      " [-5.98643379e-02  5.65111635e-02  1.04222410e-01 ...  6.28694007e-02\n",
      "   6.90979510e-02 -1.33425583e-01]\n",
      " ...\n",
      " [ 1.33881872e-01  2.99506320e-03  1.03249725e-01 ...  2.31480642e-02\n",
      "  -4.13135554e-02 -8.98681921e-02]\n",
      " [ 3.98124559e-02  3.94635133e-03 -8.05801541e-02 ... -1.05418369e-02\n",
      "  -8.96374309e-02 -4.49310208e-02]\n",
      " [-4.79562774e-02 -1.19324210e-02 -8.76277073e-02 ...  9.72922915e-02\n",
      "  -2.73338919e-01  2.31832222e-02]]\n"
     ]
    }
   ],
   "source": [
    "print(Wopt)"
   ]
  },
  {
   "cell_type": "markdown",
   "metadata": {},
   "source": [
    "We can now express each data point as product of a weight vector with Wopt. This weight vector can be used to classify each data point using nearest neighbour"
   ]
  },
  {
   "cell_type": "code",
   "execution_count": 14,
   "metadata": {},
   "outputs": [
    {
     "name": "stdout",
     "output_type": "stream",
     "text": [
      "[[-4.21712157e+03 -1.99284516e+03 -1.52093352e+03 ... -1.13435919e+02\n",
      "   2.12058754e+03  1.45497254e+03]\n",
      " [-3.76565032e+03 -2.30389502e+03 -1.28961098e+03 ...  4.65662220e+02\n",
      "   2.26849892e+03  6.75308236e+02]\n",
      " [-3.07230672e+03 -2.29496235e+03 -9.66307566e+02 ... -6.45216088e+02\n",
      "   1.41281391e+03  1.15647803e+03]\n",
      " ...\n",
      " [ 9.73530290e+02  1.93344319e+03  2.91497452e+03 ...  2.57706304e+01\n",
      "   1.92642008e+03  5.16306573e+02]\n",
      " [-5.24323997e+02  2.22028988e+03  2.01939617e+03 ... -1.28188180e+03\n",
      "  -2.04801973e+02  8.45539792e+02]\n",
      " [-1.69063728e+02  2.55941057e+03  2.55283890e+03 ... -1.03959321e+03\n",
      "  -3.64309495e+00  9.87347108e+02]]\n",
      "[[-2740.95940882  -603.76142002 -1011.23335542 ...   311.11682762\n",
      "    854.51757789   631.04226727]\n",
      " [-2939.56498346  -878.10266986 -1164.89784142 ...   278.1217408\n",
      "    515.92773028   312.96380115]\n",
      " [ 1144.35360297  -720.27399451  1472.82094592 ...  -425.62797557\n",
      "   1386.61078222   767.14244775]\n",
      " ...\n",
      " [-2587.88129858   719.58282355  1863.82572111 ...  -385.85212472\n",
      "    754.98627416   958.55887144]\n",
      " [   35.08192321  2739.82164954  2080.63046858 ...  -965.11278162\n",
      "    117.29821086   134.51294432]\n",
      " [-1023.51209316  1253.29761673  2702.73078045 ...   420.60179292\n",
      "    907.45974908   503.65876389]]\n"
     ]
    }
   ],
   "source": [
    "training_face_weights = Wopt.T.dot(pca_training_data.T)\n",
    "testing_face_weights = Wopt.T.dot(pca_testing_data.T)\n",
    "\n",
    "print(training_face_weights.T)\n",
    "print(testing_face_weights.T)"
   ]
  },
  {
   "cell_type": "code",
   "execution_count": 15,
   "metadata": {},
   "outputs": [
    {
     "name": "stdout",
     "output_type": "stream",
     "text": [
      "classification rate:  82.6923076923077 %.\n"
     ]
    }
   ],
   "source": [
    "result = class_rate(training_face_weights.real, testing_face_weights.T.real)\n",
    "print(\"classification rate: \", 100*np.sum(result)/len(result), \"%.\")"
   ]
  },
  {
   "cell_type": "code",
   "execution_count": null,
   "metadata": {},
   "outputs": [],
   "source": []
  }
 ],
 "metadata": {
  "kernelspec": {
   "display_name": "Python 3",
   "language": "python",
   "name": "python3"
  },
  "language_info": {
   "codemirror_mode": {
    "name": "ipython",
    "version": 3
   },
   "file_extension": ".py",
   "mimetype": "text/x-python",
   "name": "python",
   "nbconvert_exporter": "python",
   "pygments_lexer": "ipython3",
   "version": "3.6.9"
  }
 },
 "nbformat": 4,
 "nbformat_minor": 2
}
