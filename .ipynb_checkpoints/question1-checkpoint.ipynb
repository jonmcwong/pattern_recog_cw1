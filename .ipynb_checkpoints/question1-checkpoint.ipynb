{
 "cells": [
  {
   "cell_type": "code",
   "execution_count": 1,
   "metadata": {},
   "outputs": [],
   "source": [
    "import scipy.io\n",
    "import numpy as np\n",
    "from numpy import linalg as LA\n",
    "import matplotlib\n",
    "import time\n",
    "from PIL import Image\n",
    "import matplotlib\n",
    "import matplotlib.pyplot as plt\n",
    "from sklearn.neighbors import NearestNeighbors\n",
    "from functions import *\n",
    "from numpy import random\n",
    "savedir = \"results/question1/\""
   ]
  },
  {
   "cell_type": "code",
   "execution_count": 2,
   "metadata": {},
   "outputs": [],
   "source": [
    "# load data\n",
    "mat = scipy.io.loadmat('face.mat')\n",
    "raw_data = mat['X']\n",
    "\n",
    "D,N = raw_data.shape\n",
    "\n",
    "raw_data = np.transpose(raw_data)\n",
    "\n",
    "training_data = np.empty([int(520*0.8), 2576])\n",
    "testing_data = np.empty([int(520*0.2), 2576])\n",
    "\n",
    "# create training and test data\n",
    "for x in range(52):\n",
    "    training_data[x*8:(x+1)*8] = raw_data[x*10:x*10+8]\n",
    "    testing_data[x*2:(x+1)*2] = raw_data[x*10+8:(x+1)*10]\n",
    "\n",
    "raw_data = np.transpose(raw_data)\n",
    "training_data = np.transpose(training_data)\n",
    "testing_data = np.transpose(testing_data)\n",
    "\n"
   ]
  },
  {
   "cell_type": "code",
   "execution_count": 3,
   "metadata": {
    "scrolled": true
   },
   "outputs": [],
   "source": [
    "# get mean image matrix\n",
    "mean_face = training_data.mean(axis=1).reshape(-1,1)\n",
    "# show_img(mean_face)\n",
    "# save_img(mean_face, \"results/question1/mean_face.png\")"
   ]
  },
  {
   "cell_type": "markdown",
   "metadata": {},
   "source": [
    "rank of each matrix is the same : 415\n",
    "Most of eigen values in normal pca should be 0. But instead are complex due to numeric error. need a way to discard small eigen vals\n"
   ]
  },
  {
   "cell_type": "code",
   "execution_count": 4,
   "metadata": {
    "scrolled": true
   },
   "outputs": [
    {
     "name": "stdout",
     "output_type": "stream",
     "text": [
      "normal pca took  13.810858964920044  seconds.\n",
      "low dimension pca took  0.14890813827514648  seconds.\n"
     ]
    }
   ],
   "source": [
    "# generate principal components\n",
    "pca_eigw, pca_eigvec = normal_pca(training_data, mean_face)\n",
    "lowdim_eigw, lowdim_eigvec = lowdim_pca(training_data, mean_face)"
   ]
  },
  {
   "cell_type": "code",
   "execution_count": 5,
   "metadata": {
    "scrolled": false
   },
   "outputs": [
    {
     "name": "stdout",
     "output_type": "stream",
     "text": [
      "eig val (2576,)\n",
      "eig vec (416, 2576)\n"
     ]
    },
    {
     "data": {
      "image/png": "[encoded data removed]",
      "text/plain": [
       "<Figure size 432x288 with 1 Axes>"
      ]
     },
     "metadata": {
      "needs_background": "light"
     },
     "output_type": "display_data"
    }
   ],
   "source": [
    "print(\"eig val\",pca_eigw.shape)\n",
    "print(\"eig vec\",pca_eigvec.shape)\n",
    "\n",
    "x_pos = [i for i, _ in enumerate(pca_eigw)]\n",
    "plt.bar(x_pos,pca_eigw)\n",
    "plt.axis([300,500,0,0.0000000001])\n",
    "plt.title(\"eigenvalues of PCA\")\n",
    "plt.xlabel(\"Eigenvalue index\")\n",
    "plt.ylabel(\"Magnitude of eigenvalues\")\n",
    "filename = \"eigzoom.eps\"\n",
    "savename = savedir+filename\n",
    "# plt.savefig(savename)\n",
    "\n",
    "u_norm = lowdim_eigvec"
   ]
  },
  {
   "cell_type": "markdown",
   "metadata": {},
   "source": [
    "Normal PCA and Low dimension PCA timing "
   ]
  },
  {
   "cell_type": "code",
   "execution_count": 6,
   "metadata": {},
   "outputs": [],
   "source": [
    "# for i in range(10):\n",
    "#     _,_ = lowdim_pca(training_data, mean_face)\n",
    "#     _, _ = normal_pca(training_data, mean_face)    \n"
   ]
  },
  {
   "cell_type": "code",
   "execution_count": 7,
   "metadata": {},
   "outputs": [],
   "source": [
    "# eigen_analysis(pca_eigw, pca_eigvec, lowdim_eigw, lowdim_eigvec)\n",
    "show_img(training_data.T[0])\n",
    "# save_img(training_data.T[0], (savedir+\"training0.png\"))"
   ]
  },
  {
   "cell_type": "code",
   "execution_count": 11,
   "metadata": {},
   "outputs": [
    {
     "name": "stdout",
     "output_type": "stream",
     "text": [
      "mean absolute error:  50.13958677666236\n",
      "mean absolute error:  49.162887615425596\n",
      "mean absolute error:  49.668402913466835\n",
      "mean absolute error:  51.48583346639467\n",
      "mean absolute error:  51.809520205145716\n"
     ]
    }
   ],
   "source": [
    "nn = [5,10,50,200,416]\n",
    "# n = 416\n",
    "\n",
    "for n in nn:\n",
    "    img_name =savedir + str(n)+\"pc_test.png\"\n",
    "    faces = reconstruct(testing_data.T, mean_face.T, u_norm.T, n)\n",
    "#     show_img(faces[0])\n",
    "    save_img(faces[0], img_name)\n",
    "    print(\"mean absolute error: \", get_err(training_data[:,0], faces[0]))\n"
   ]
  },
  {
   "cell_type": "code",
   "execution_count": null,
   "metadata": {},
   "outputs": [],
   "source": [
    "plot_err(training_data.T, training_data.T, mean_face.T, u_norm.T, 0)"
   ]
  },
  {
   "cell_type": "code",
   "execution_count": null,
   "metadata": {
    "scrolled": true
   },
   "outputs": [],
   "source": [
    "plt.plot(lowdim_eigw)"
   ]
  },
  {
   "cell_type": "code",
   "execution_count": null,
   "metadata": {},
   "outputs": [],
   "source": [
    "training_weights = np.matmul((training_data-mean_face).T, u_norm)\n",
    "reconstructed_weights = np.matmul((testing_data-mean_face).T, u_norm[:,:n])\n",
    "\n",
    "result = class_rate(training_weights[:,:n], reconstructed_weights)\n",
    "print(\"classification rate: \", 100*np.sum(result)/len(result), \"%.\")\n"
   ]
  },
  {
   "cell_type": "code",
   "execution_count": null,
   "metadata": {
    "scrolled": false
   },
   "outputs": [],
   "source": [
    "plot_class_rate(training_data.T, testing_data.T, mean_face.T, u_norm.T)\n"
   ]
  },
  {
   "cell_type": "code",
   "execution_count": null,
   "metadata": {},
   "outputs": [],
   "source": [
    "dist, indx = nn_class(training_data.T, faces)\n",
    "print(len(indx))\n"
   ]
  },
  {
   "cell_type": "code",
   "execution_count": null,
   "metadata": {},
   "outputs": [],
   "source": [
    "#still checking\n",
    "def confusion_mat(training_data, reconstructed):\n",
    "    dist, indx = nn_class(training_data.T, reconstructed)\n",
    "    TP, FP, FN, TN, accuracy, recall, precision = ([0]*52 for i in range(7)) \n",
    "    for cl in range(52):\n",
    "        #compute TP and FN\n",
    "        for item in range(2):\n",
    "            if cl*8 <= indx[cl*2+item] <= (cl+1)*8:\n",
    "                TP[cl] += 1\n",
    "            else:\n",
    "                FN[cl] += 1\n",
    "                \n",
    "        for item in [x for x in range(len(indx)) if x != cl*2 or x != cl*2+1]:\n",
    "            if cl*8 <= indx[item] <= (cl+1)*8:\n",
    "                FP[cl] += 1\n",
    "            else:\n",
    "                TN[cl] += 1\n",
    "            \n",
    "                    \n",
    "#     print(\"TP: \", TP)\n",
    "#     print(\"FN: \", FN)\n",
    "#     print(\"FP: \", FP)\n",
    "#     print(\"TN: \", TN)\n",
    "    \n",
    "    for i in range(len(TP)):\n",
    "        accuracy[i] = 100*(TP[i] + TN[i])/(TP[i] + TN[i] + FP[i] + FN[i])\n",
    "        if TP[i]+FN[i] == 0:\n",
    "            recall[i] = 0\n",
    "        else:\n",
    "            recall[i] = 100*TP[i]/(TP[i]+FN[i])\n",
    "        if TP[i]+FP[i] == 0:\n",
    "            precision[i] = 0\n",
    "        else:\n",
    "            precision[i] = 100*TP[i]/(TP[i]+FP[i])\n",
    "        \n",
    "    for i in range(len(accuracy)):\n",
    "        print(\"=========\\tClass \", i ,\"\\t==========\")\n",
    "        print(\"accuracy :\\t\", accuracy[i])\n",
    "        print(\"recall\\t :\\t\", recall[i])\n",
    "        print(\"precision:\\t\", precision[i])\n"
   ]
  },
  {
   "cell_type": "code",
   "execution_count": null,
   "metadata": {},
   "outputs": [],
   "source": [
    "confusion_mat(training_data, faces)"
   ]
  },
  {
   "cell_type": "code",
   "execution_count": null,
   "metadata": {},
   "outputs": [],
   "source": []
  }
 ],
 "metadata": {
  "kernelspec": {
   "display_name": "Python 3",
   "language": "python",
   "name": "python3"
  },
  "language_info": {
   "codemirror_mode": {
    "name": "ipython",
    "version": 3
   },
   "file_extension": ".py",
   "mimetype": "text/x-python",
   "name": "python",
   "nbconvert_exporter": "python",
   "pygments_lexer": "ipython3",
   "version": "3.7.0"
  }
 },
 "nbformat": 4,
 "nbformat_minor": 2
}
