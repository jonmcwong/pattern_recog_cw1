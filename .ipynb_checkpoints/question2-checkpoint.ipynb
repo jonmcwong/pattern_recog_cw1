{
 "cells": [
  {
   "cell_type": "code",
   "execution_count": 1,
   "metadata": {},
   "outputs": [],
   "source": [
    "import scipy.io\n",
    "import numpy as np\n",
    "from numpy import linalg as LA\n",
    "import matplotlib\n",
    "import time\n",
    "from PIL import Image\n",
    "import matplotlib\n",
    "import matplotlib.pyplot as plt\n",
    "from sklearn.neighbors import NearestNeighbors\n",
    "from functions import *\n",
    "from numpy import random"
   ]
  },
  {
   "cell_type": "code",
   "execution_count": 2,
   "metadata": {},
   "outputs": [],
   "source": [
    "# load data\n",
    "mat = scipy.io.loadmat('face.mat')\n",
    "raw_data = mat['X']\n",
    "\n",
    "D,N = raw_data.shape\n",
    "\n",
    "raw_data = np.transpose(raw_data)\n",
    "\n",
    "partitioned_training_data = np.empty([4,int(520*0.8/4), 2576])\n",
    "\n",
    "testing_data = np.empty([int(520*0.2), 2576])\n",
    "\n",
    "# create training and test data\n",
    "for x in range(52):\n",
    "    for y in range(4):\n",
    "        partitioned_training_data[y][x*2:(x+1)*2] = raw_data[x*10+(2*y):x*10+(2*(y+1))]\n",
    "    testing_data[x*2:(x+1)*2] = raw_data[x*10+8:(x+1)*10]\n",
    "    \n",
    "\n",
    "raw_data = np.transpose(raw_data)\n",
    "# partitioned_training_data = np.transpose(partitioned_training_data)\n",
    "testing_data = np.transpose(testing_data)"
   ]
  },
  {
   "cell_type": "markdown",
   "metadata": {},
   "source": [
    "Combine partition 0 and 1"
   ]
  },
  {
   "cell_type": "code",
   "execution_count": 3,
   "metadata": {},
   "outputs": [],
   "source": [
    "ds0 = partitioned_training_data[0]\n",
    "ds1 = partitioned_training_data[1]\n",
    "ds2 = partitioned_training_data[2]\n",
    "ds3 = partitioned_training_data[3]"
   ]
  },
  {
   "cell_type": "code",
   "execution_count": 4,
   "metadata": {},
   "outputs": [],
   "source": [
    "# mface = ds0.T.mean(axis=0)\n",
    "# _,u = lowdim_pca(ds0.T, mface) #bc dimension diff from q1, so need to use reversed\n",
    "# print(testing_data.shape)\n",
    "# print(mface.reshape(1,-1).shape)\n",
    "# print(u.shape)\n",
    "# faces = reconstruct(testing_data.T, mface, u.T, 200)\n",
    "# # plot_class_rate(ds0, testing_data.T, mface.reshape(1,-1), u)\n",
    "\n",
    "\n",
    "\n"
   ]
  },
  {
   "cell_type": "code",
   "execution_count": 5,
   "metadata": {
    "scrolled": true
   },
   "outputs": [
    {
     "name": "stdout",
     "output_type": "stream",
     "text": [
      "(209, 209)\n",
      "computing merged dataset information required  0.13507604598999023  seconds.\n",
      "(313, 313)\n",
      "computing merged dataset information required  0.21500587463378906  seconds.\n",
      "(417, 417)\n",
      "computing merged dataset information required  0.30962705612182617  seconds.\n"
     ]
    }
   ],
   "source": [
    "combined_training, eigenface, new_mu, new_cov = merge_dataset(ds0, ds1)\n",
    "combined_training, eigenface, new_mu, new_cov = merge_dataset(combined_training, ds2)\n",
    "combined_training, eigenface, new_mu, new_cov = merge_dataset(combined_training, ds3)\n",
    "\n",
    "# print(combined_training.shape)\n",
    "# print(eigenface.shape)\n",
    "# print(new_mu.shape)\n",
    "# print(new_cov.shape)"
   ]
  },
  {
   "cell_type": "code",
   "execution_count": null,
   "metadata": {},
   "outputs": [],
   "source": [
    "n = 200"
   ]
  },
  {
   "cell_type": "code",
   "execution_count": null,
   "metadata": {},
   "outputs": [],
   "source": [
    "print(testing_data.shape)\n",
    "print(new_mu.shape)\n",
    "print(eigenface.shape)\n",
    "faces = reconstruct(testing_data.T, new_mu.reshape(1,-1), eigenface, n)"
   ]
  },
  {
   "cell_type": "code",
   "execution_count": null,
   "metadata": {},
   "outputs": [],
   "source": [
    "# for i in range(6):\n",
    "#     show_img(combined_training[i,:])\n",
    "nn = [5,10,50,200,416]\n",
    "# n = 416\n",
    "\n",
    "for n in nn:\n",
    "#     img_name =savedir + str(n)+\"pc_test.png\"\n",
    "    faces = reconstruct(testing_data.T, new_mu.reshape(1,-1), eigenface, n)\n",
    "#     show_img(faces[0])\n",
    "#     save_img(faces[0], img_name)\n",
    "    print(\"mean absolute error: \", get_err(combined_training[0,:], faces[0]))\n"
   ]
  },
  {
   "cell_type": "markdown",
   "metadata": {},
   "source": [
    "compute the reconstruction error and face recognition accuracy"
   ]
  },
  {
   "cell_type": "code",
   "execution_count": null,
   "metadata": {},
   "outputs": [],
   "source": [
    "plot_err(combined_training, testing_data.T, new_mu, eigenface, 0)"
   ]
  },
  {
   "cell_type": "markdown",
   "metadata": {},
   "source": [
    "Perform Incremental PCA, and compare it with the counterpart i.e. :\n",
    "    - batch PCA\n",
    "    - PCA trained only by the first subset\n",
    "    \n",
    "in terms of :\n",
    "    - training time\n",
    "    - reconstruction error\n",
    "    - face recognition accuracy.\n",
    "    \n",
    "Show and discuss, including: how accurate your incremental method is, what important\n",
    "parameters in the method are (and how they are set). Provide your own discussions and\n",
    "measurements to support. "
   ]
  },
  {
   "cell_type": "code",
   "execution_count": null,
   "metadata": {
    "scrolled": true
   },
   "outputs": [],
   "source": [
    "\n",
    "print(combined_training.shape)\n",
    "print(testing_data.shape)\n",
    "print(new_mu.shape)\n",
    "print(eigenface.shape)\n",
    "\n",
    "# plot_err(combined_training, testing_data.T, new_mu, eigenface[:416], 0)\n",
    "plot_class_rate(combined_training, testing_data.T, new_mu, eigenface[:416,:])"
   ]
  },
  {
   "cell_type": "code",
   "execution_count": null,
   "metadata": {},
   "outputs": [],
   "source": []
  }
 ],
 "metadata": {
  "kernelspec": {
   "display_name": "Python 3",
   "language": "python",
   "name": "python3"
  },
  "language_info": {
   "codemirror_mode": {
    "name": "ipython",
    "version": 3
   },
   "file_extension": ".py",
   "mimetype": "text/x-python",
   "name": "python",
   "nbconvert_exporter": "python",
   "pygments_lexer": "ipython3",
   "version": "3.7.0"
  }
 },
 "nbformat": 4,
 "nbformat_minor": 2
}
